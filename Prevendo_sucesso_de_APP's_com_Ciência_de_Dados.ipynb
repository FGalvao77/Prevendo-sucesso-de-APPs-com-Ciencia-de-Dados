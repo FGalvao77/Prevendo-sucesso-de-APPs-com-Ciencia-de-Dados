{
  "nbformat": 4,
  "nbformat_minor": 0,
  "metadata": {
    "colab": {
      "name": "Prevendo sucesso de APP's com Ciência de Dados.ipynb",
      "provenance": [],
      "collapsed_sections": [],
      "authorship_tag": "ABX9TyNlxt3ZxKAazzMfCh83NGrN",
      "include_colab_link": true
    },
    "kernelspec": {
      "name": "python3",
      "display_name": "Python 3"
    },
    "language_info": {
      "name": "python"
    }
  },
  "cells": [
    {
      "cell_type": "markdown",
      "metadata": {
        "id": "view-in-github",
        "colab_type": "text"
      },
      "source": [
        "<a href=\"https://colab.research.google.com/github/FGalvao77/Prevendo-sucesso-de-APPs-com-Ciencia-de-Dados/blob/main/Prevendo_sucesso_de_APP's_com_Ci%C3%AAncia_de_Dados.ipynb\" target=\"_parent\"><img src=\"https://colab.research.google.com/assets/colab-badge.svg\" alt=\"Open In Colab\"/></a>"
      ]
    },
    {
      "cell_type": "markdown",
      "metadata": {
        "id": "bNxL0cvdzMhe"
      },
      "source": [
        "# **Prevendo sucesso de APP's com Ciência de Dados**\n",
        "\n",
        "---\n",
        "\n"
      ]
    },
    {
      "cell_type": "markdown",
      "metadata": {
        "id": "RoIXt8t4Tv9o"
      },
      "source": [
        "## **1. Introdução**\n",
        "\n",
        "Problema de negócio:      \n",
        "- Predizer o sucesso (popularidade) de um aplicativo `Android` ao construir um modelo de _Machine Learning_ com base em um conjunto de dados."
      ]
    },
    {
      "cell_type": "markdown",
      "metadata": {
        "id": "y-jMHDW7UZ86"
      },
      "source": [
        "## **2. Importando o conjunto de dados**"
      ]
    },
    {
      "cell_type": "code",
      "metadata": {
        "colab": {
          "base_uri": "https://localhost:8080/"
        },
        "id": "EO3tlNNzSQYm",
        "outputId": "fdfb213e-c19c-4906-eb63-c2d998605283"
      },
      "source": [
        "# importando os dados direto de uma url\n",
        "!wget https://machinehack-be.s3.amazonaws.com/playstore_app_downloads_prediction_weekend_hackathon_16/PlayStoreApps-ParticipantsData.zip"
      ],
      "execution_count": 1,
      "outputs": [
        {
          "output_type": "stream",
          "name": "stdout",
          "text": [
            "--2021-11-19 23:24:22--  https://machinehack-be.s3.amazonaws.com/playstore_app_downloads_prediction_weekend_hackathon_16/PlayStoreApps-ParticipantsData.zip\n",
            "Resolving machinehack-be.s3.amazonaws.com (machinehack-be.s3.amazonaws.com)... 52.219.66.116\n",
            "Connecting to machinehack-be.s3.amazonaws.com (machinehack-be.s3.amazonaws.com)|52.219.66.116|:443... connected.\n",
            "HTTP request sent, awaiting response... 200 OK\n",
            "Length: 931277 (909K) [application/zip]\n",
            "Saving to: ‘PlayStoreApps-ParticipantsData.zip.1’\n",
            "\n",
            "PlayStoreApps-Parti 100%[===================>] 909.45K  1.32MB/s    in 0.7s    \n",
            "\n",
            "2021-11-19 23:24:23 (1.32 MB/s) - ‘PlayStoreApps-ParticipantsData.zip.1’ saved [931277/931277]\n",
            "\n"
          ]
        }
      ]
    },
    {
      "cell_type": "code",
      "metadata": {
        "colab": {
          "base_uri": "https://localhost:8080/"
        },
        "id": "nuIMc7aSTeS3",
        "outputId": "eb9b4ff3-d1e0-4e3e-c0da-0cc111f64cb2"
      },
      "source": [
        "# descompactando o arquivo\n",
        "!unzip PlayStoreApps-ParticipantsData.zip"
      ],
      "execution_count": 2,
      "outputs": [
        {
          "output_type": "stream",
          "name": "stdout",
          "text": [
            "Archive:  PlayStoreApps-ParticipantsData.zip\n",
            "replace PlayStoreApps-ParticipantsData/Train.csv? [y]es, [n]o, [A]ll, [N]one, [r]ename: y\n",
            "  inflating: PlayStoreApps-ParticipantsData/Train.csv  \n",
            "replace PlayStoreApps-ParticipantsData/Test.csv? [y]es, [n]o, [A]ll, [N]one, [r]ename: y\n",
            "  inflating: PlayStoreApps-ParticipantsData/Test.csv  \n",
            "replace PlayStoreApps-ParticipantsData/Sample_Submission.csv? [y]es, [n]o, [A]ll, [N]one, [r]ename: y\n",
            "  inflating: PlayStoreApps-ParticipantsData/Sample_Submission.csv  \n"
          ]
        }
      ]
    },
    {
      "cell_type": "code",
      "metadata": {
        "id": "KqBFmZGxTeQE"
      },
      "source": [
        "# importando as biblioetcas\n",
        "import pandas as pd                 # modelagem de dados\n",
        "import numpy as np                  # modelagem matemática\n",
        "import matplotlib.pyplot as plt     # visualização gráfica\n",
        "import seaborn as sns               # visualização gráfica\n",
        "\n",
        "%matplotlib inline"
      ],
      "execution_count": 3,
      "outputs": []
    },
    {
      "cell_type": "code",
      "metadata": {
        "id": "HlKsE5KOx_CU"
      },
      "source": [
        "# importando a biblioteca para ignorar \"erros\"\n",
        "from warnings import filterwarnings\n",
        "filterwarnings('ignore')"
      ],
      "execution_count": 4,
      "outputs": []
    },
    {
      "cell_type": "code",
      "metadata": {
        "id": "qq5tFMvfYfzz"
      },
      "source": [
        "# instanciando cada base de dados em um objeto próprio\n",
        "train = pd.read_csv('/content/PlayStoreApps-ParticipantsData/Train.csv')\n",
        "test = pd.read_csv('/content/PlayStoreApps-ParticipantsData/Test.csv')"
      ],
      "execution_count": 5,
      "outputs": []
    },
    {
      "cell_type": "markdown",
      "metadata": {
        "id": "i5Vvon3NfviB"
      },
      "source": [
        "## **3. Análise exploratória do conjunto de dados**"
      ]
    },
    {
      "cell_type": "code",
      "metadata": {
        "colab": {
          "base_uri": "https://localhost:8080/",
          "height": 204
        },
        "id": "7L0qeXKRTeM5",
        "outputId": "e97fef97-1145-4252-ef9a-a1fc02c6c8c5"
      },
      "source": [
        "# visualizando as 5 primeiras linhas \n",
        "train.head()"
      ],
      "execution_count": 6,
      "outputs": [
        {
          "output_type": "execute_result",
          "data": {
            "text/html": [
              "<div>\n",
              "<style scoped>\n",
              "    .dataframe tbody tr th:only-of-type {\n",
              "        vertical-align: middle;\n",
              "    }\n",
              "\n",
              "    .dataframe tbody tr th {\n",
              "        vertical-align: top;\n",
              "    }\n",
              "\n",
              "    .dataframe thead th {\n",
              "        text-align: right;\n",
              "    }\n",
              "</style>\n",
              "<table border=\"1\" class=\"dataframe\">\n",
              "  <thead>\n",
              "    <tr style=\"text-align: right;\">\n",
              "      <th></th>\n",
              "      <th>Offered_By</th>\n",
              "      <th>Category</th>\n",
              "      <th>Rating</th>\n",
              "      <th>Reviews</th>\n",
              "      <th>Size</th>\n",
              "      <th>Price</th>\n",
              "      <th>Content_Rating</th>\n",
              "      <th>Last_Updated_On</th>\n",
              "      <th>Release_Version</th>\n",
              "      <th>OS_Version_Required</th>\n",
              "      <th>Downloads</th>\n",
              "    </tr>\n",
              "  </thead>\n",
              "  <tbody>\n",
              "    <tr>\n",
              "      <th>0</th>\n",
              "      <td>ps_id-24654</td>\n",
              "      <td>Finance</td>\n",
              "      <td>4.18</td>\n",
              "      <td>1481</td>\n",
              "      <td>Varies with device</td>\n",
              "      <td>Free</td>\n",
              "      <td>Everyone</td>\n",
              "      <td>May 05 2020</td>\n",
              "      <td>Varies with device</td>\n",
              "      <td>Varies with device</td>\n",
              "      <td>100,000+</td>\n",
              "    </tr>\n",
              "    <tr>\n",
              "      <th>1</th>\n",
              "      <td>ps_id-35329</td>\n",
              "      <td>Music And Audio</td>\n",
              "      <td>4.81</td>\n",
              "      <td>302</td>\n",
              "      <td>10M</td>\n",
              "      <td>Free</td>\n",
              "      <td>Everyone</td>\n",
              "      <td>Mar 26 2020</td>\n",
              "      <td>3.9.18</td>\n",
              "      <td>4.1 and up</td>\n",
              "      <td>5,000+</td>\n",
              "    </tr>\n",
              "    <tr>\n",
              "      <th>2</th>\n",
              "      <td>ps_id-11044</td>\n",
              "      <td>Game Casual</td>\n",
              "      <td>4.27</td>\n",
              "      <td>374</td>\n",
              "      <td>27M</td>\n",
              "      <td>Free</td>\n",
              "      <td>Everyone</td>\n",
              "      <td>May 01 2020</td>\n",
              "      <td>1.10.1</td>\n",
              "      <td>4.1 and up</td>\n",
              "      <td>10,000+</td>\n",
              "    </tr>\n",
              "    <tr>\n",
              "      <th>3</th>\n",
              "      <td>ps_id-36068</td>\n",
              "      <td>Business</td>\n",
              "      <td>4.03</td>\n",
              "      <td>122058</td>\n",
              "      <td>Varies with device</td>\n",
              "      <td>Free</td>\n",
              "      <td>Teen</td>\n",
              "      <td>May 02 2020</td>\n",
              "      <td>Varies with device</td>\n",
              "      <td>Varies with device</td>\n",
              "      <td>10,000,000+</td>\n",
              "    </tr>\n",
              "    <tr>\n",
              "      <th>4</th>\n",
              "      <td>ps_id-35831</td>\n",
              "      <td>Medical</td>\n",
              "      <td>4.60</td>\n",
              "      <td>358</td>\n",
              "      <td>Varies with device</td>\n",
              "      <td>297.5742</td>\n",
              "      <td>Everyone</td>\n",
              "      <td>Nov 29 2018</td>\n",
              "      <td>Varies with device</td>\n",
              "      <td>Varies with device</td>\n",
              "      <td>5,000+</td>\n",
              "    </tr>\n",
              "  </tbody>\n",
              "</table>\n",
              "</div>"
            ],
            "text/plain": [
              "    Offered_By         Category  ...  OS_Version_Required    Downloads\n",
              "0  ps_id-24654          Finance  ...   Varies with device     100,000+\n",
              "1  ps_id-35329  Music And Audio  ...           4.1 and up       5,000+\n",
              "2  ps_id-11044      Game Casual  ...           4.1 and up      10,000+\n",
              "3  ps_id-36068         Business  ...   Varies with device  10,000,000+\n",
              "4  ps_id-35831          Medical  ...   Varies with device       5,000+\n",
              "\n",
              "[5 rows x 11 columns]"
            ]
          },
          "metadata": {},
          "execution_count": 6
        }
      ]
    },
    {
      "cell_type": "code",
      "metadata": {
        "colab": {
          "base_uri": "https://localhost:8080/",
          "height": 204
        },
        "id": "xAM4Ox-ydV3K",
        "outputId": "52fada9f-318a-4d00-a3d3-ab67b7c3d849"
      },
      "source": [
        "# visualizando as 5 primeiras linhas \n",
        "test.head()"
      ],
      "execution_count": 7,
      "outputs": [
        {
          "output_type": "execute_result",
          "data": {
            "text/html": [
              "<div>\n",
              "<style scoped>\n",
              "    .dataframe tbody tr th:only-of-type {\n",
              "        vertical-align: middle;\n",
              "    }\n",
              "\n",
              "    .dataframe tbody tr th {\n",
              "        vertical-align: top;\n",
              "    }\n",
              "\n",
              "    .dataframe thead th {\n",
              "        text-align: right;\n",
              "    }\n",
              "</style>\n",
              "<table border=\"1\" class=\"dataframe\">\n",
              "  <thead>\n",
              "    <tr style=\"text-align: right;\">\n",
              "      <th></th>\n",
              "      <th>Offered_By</th>\n",
              "      <th>Category</th>\n",
              "      <th>Rating</th>\n",
              "      <th>Reviews</th>\n",
              "      <th>Size</th>\n",
              "      <th>Price</th>\n",
              "      <th>Content_Rating</th>\n",
              "      <th>Last_Updated_On</th>\n",
              "      <th>Release_Version</th>\n",
              "      <th>OS_Version_Required</th>\n",
              "    </tr>\n",
              "  </thead>\n",
              "  <tbody>\n",
              "    <tr>\n",
              "      <th>0</th>\n",
              "      <td>ps_id-18231</td>\n",
              "      <td>Game Puzzle</td>\n",
              "      <td>4.52</td>\n",
              "      <td>1362</td>\n",
              "      <td>36M</td>\n",
              "      <td>Free</td>\n",
              "      <td>Everyone</td>\n",
              "      <td>May 05 2020</td>\n",
              "      <td>1.4.1</td>\n",
              "      <td>4.0.3 and up</td>\n",
              "    </tr>\n",
              "    <tr>\n",
              "      <th>1</th>\n",
              "      <td>ps_id-1874</td>\n",
              "      <td>Shopping</td>\n",
              "      <td>4.29</td>\n",
              "      <td>3353</td>\n",
              "      <td>Varies with device</td>\n",
              "      <td>Free</td>\n",
              "      <td>Teen</td>\n",
              "      <td>May 05 2020</td>\n",
              "      <td>Varies with device</td>\n",
              "      <td>Varies with device</td>\n",
              "    </tr>\n",
              "    <tr>\n",
              "      <th>2</th>\n",
              "      <td>ps_id-3182</td>\n",
              "      <td>Photography</td>\n",
              "      <td>4.55</td>\n",
              "      <td>161855</td>\n",
              "      <td>Varies with device</td>\n",
              "      <td>Free</td>\n",
              "      <td>Everyone</td>\n",
              "      <td>May 05 2020</td>\n",
              "      <td>Varies with device</td>\n",
              "      <td>Varies with device</td>\n",
              "    </tr>\n",
              "    <tr>\n",
              "      <th>3</th>\n",
              "      <td>ps_id-31452</td>\n",
              "      <td>Game Action</td>\n",
              "      <td>3.97</td>\n",
              "      <td>545</td>\n",
              "      <td>16M</td>\n",
              "      <td>Free</td>\n",
              "      <td>Everyone</td>\n",
              "      <td>Dec 07 2016</td>\n",
              "      <td>2</td>\n",
              "      <td>4.1 and up</td>\n",
              "    </tr>\n",
              "    <tr>\n",
              "      <th>4</th>\n",
              "      <td>ps_id-25641</td>\n",
              "      <td>Photography</td>\n",
              "      <td>4.65</td>\n",
              "      <td>1672</td>\n",
              "      <td>33M</td>\n",
              "      <td>Free</td>\n",
              "      <td>Everyone</td>\n",
              "      <td>Jan 25 2020</td>\n",
              "      <td>1</td>\n",
              "      <td>4.4 and up</td>\n",
              "    </tr>\n",
              "  </tbody>\n",
              "</table>\n",
              "</div>"
            ],
            "text/plain": [
              "    Offered_By     Category  ...     Release_Version  OS_Version_Required\n",
              "0  ps_id-18231  Game Puzzle  ...               1.4.1         4.0.3 and up\n",
              "1   ps_id-1874     Shopping  ...  Varies with device   Varies with device\n",
              "2   ps_id-3182  Photography  ...  Varies with device   Varies with device\n",
              "3  ps_id-31452  Game Action  ...                   2           4.1 and up\n",
              "4  ps_id-25641  Photography  ...                   1           4.4 and up\n",
              "\n",
              "[5 rows x 10 columns]"
            ]
          },
          "metadata": {},
          "execution_count": 7
        }
      ]
    },
    {
      "cell_type": "code",
      "metadata": {
        "colab": {
          "base_uri": "https://localhost:8080/"
        },
        "id": "Cp1VGceYY5p0",
        "outputId": "4ec3ccea-7911-4c1d-96bb-2c11320037d3"
      },
      "source": [
        "# nome dos atributos (colunas)\n",
        "train.columns"
      ],
      "execution_count": 8,
      "outputs": [
        {
          "output_type": "execute_result",
          "data": {
            "text/plain": [
              "Index(['Offered_By', 'Category', 'Rating', 'Reviews', 'Size', 'Price',\n",
              "       'Content_Rating', 'Last_Updated_On', 'Release_Version',\n",
              "       'OS_Version_Required', 'Downloads'],\n",
              "      dtype='object')"
            ]
          },
          "metadata": {},
          "execution_count": 8
        }
      ]
    },
    {
      "cell_type": "markdown",
      "metadata": {
        "id": "-9Yis11yY-7e"
      },
      "source": [
        "**Descrição dos atributos:** \n",
        "- `Offered_By`: editor/organização/empresa que desenvolveu o aplicativo;\n",
        "- `Category`: categória/gênero do aplicativo;\n",
        "- `Rating`: ranque da avaliação do aplicativo; \n",
        "- `Reviews`: quantidade de avaliações do aplicativo;\n",
        "- `Size`: tamanho do aplicativo;\n",
        "- `Price`: preço do aplicativo;\n",
        "- `Content_Rating`: classificação do aplicativo por faixas de idades;    \n",
        "- `Last_Updated_On`: data da última atualização do aplicativo;     \n",
        "- `Release_Version`: versão atual do aplicativo;\n",
        "- `OS_Version_Required`: versão mínima requerida do sistema operacional Android para execução do aplicativo;  \n",
        "- `Downloads`: intervalo aproximado de downloads do aplicativo.\n",
        "\n",
        "**Objetivo:** Classificar a faixa em que se enquadra a aplicação em função do número de downloads."
      ]
    },
    {
      "cell_type": "code",
      "metadata": {
        "colab": {
          "base_uri": "https://localhost:8080/"
        },
        "id": "gLz_jjDsTeKZ",
        "outputId": "06dc4c80-9c7c-4354-a78a-420407e3d845"
      },
      "source": [
        "# dimensão da base de dados\n",
        "train.shape     # linhas e colunas"
      ],
      "execution_count": 9,
      "outputs": [
        {
          "output_type": "execute_result",
          "data": {
            "text/plain": [
              "(16516, 11)"
            ]
          },
          "metadata": {},
          "execution_count": 9
        }
      ]
    },
    {
      "cell_type": "code",
      "metadata": {
        "colab": {
          "base_uri": "https://localhost:8080/"
        },
        "id": "beIBcuFMdau2",
        "outputId": "60c356cf-8e63-4c4c-ff0a-6393cd7db736"
      },
      "source": [
        "# dimensão da base de dados\n",
        "test.shape      # linhas e colunas"
      ],
      "execution_count": 10,
      "outputs": [
        {
          "output_type": "execute_result",
          "data": {
            "text/plain": [
              "(24776, 10)"
            ]
          },
          "metadata": {},
          "execution_count": 10
        }
      ]
    },
    {
      "cell_type": "code",
      "metadata": {
        "colab": {
          "base_uri": "https://localhost:8080/"
        },
        "id": "nswNvbmqTeH7",
        "outputId": "52f963d6-d175-446a-cfc6-4c1038fe5d5a"
      },
      "source": [
        "# informações gerais\n",
        "train.info()"
      ],
      "execution_count": 11,
      "outputs": [
        {
          "output_type": "stream",
          "name": "stdout",
          "text": [
            "<class 'pandas.core.frame.DataFrame'>\n",
            "RangeIndex: 16516 entries, 0 to 16515\n",
            "Data columns (total 11 columns):\n",
            " #   Column               Non-Null Count  Dtype  \n",
            "---  ------               --------------  -----  \n",
            " 0   Offered_By           16516 non-null  object \n",
            " 1   Category             16516 non-null  object \n",
            " 2   Rating               16516 non-null  float64\n",
            " 3   Reviews              16516 non-null  int64  \n",
            " 4   Size                 16516 non-null  object \n",
            " 5   Price                16516 non-null  object \n",
            " 6   Content_Rating       16516 non-null  object \n",
            " 7   Last_Updated_On      16516 non-null  object \n",
            " 8   Release_Version      16516 non-null  object \n",
            " 9   OS_Version_Required  16516 non-null  object \n",
            " 10  Downloads            16516 non-null  object \n",
            "dtypes: float64(1), int64(1), object(9)\n",
            "memory usage: 1.4+ MB\n"
          ]
        }
      ]
    },
    {
      "cell_type": "code",
      "metadata": {
        "colab": {
          "base_uri": "https://localhost:8080/"
        },
        "id": "fhicW29gdfGl",
        "outputId": "eb7ba122-f655-469c-96ee-76e52672ac36"
      },
      "source": [
        "# informações gerais\n",
        "test.info()"
      ],
      "execution_count": 12,
      "outputs": [
        {
          "output_type": "stream",
          "name": "stdout",
          "text": [
            "<class 'pandas.core.frame.DataFrame'>\n",
            "RangeIndex: 24776 entries, 0 to 24775\n",
            "Data columns (total 10 columns):\n",
            " #   Column               Non-Null Count  Dtype  \n",
            "---  ------               --------------  -----  \n",
            " 0   Offered_By           24776 non-null  object \n",
            " 1   Category             24776 non-null  object \n",
            " 2   Rating               24776 non-null  float64\n",
            " 3   Reviews              24776 non-null  int64  \n",
            " 4   Size                 24776 non-null  object \n",
            " 5   Price                24776 non-null  object \n",
            " 6   Content_Rating       24776 non-null  object \n",
            " 7   Last_Updated_On      24776 non-null  object \n",
            " 8   Release_Version      24776 non-null  object \n",
            " 9   OS_Version_Required  24776 non-null  object \n",
            "dtypes: float64(1), int64(1), object(8)\n",
            "memory usage: 1.9+ MB\n"
          ]
        }
      ]
    },
    {
      "cell_type": "code",
      "metadata": {
        "colab": {
          "base_uri": "https://localhost:8080/"
        },
        "id": "40y1SfMfTeF2",
        "outputId": "67695e05-244d-44a6-91fc-aaec8c0aad92"
      },
      "source": [
        "# contabiblizando valores nulos e/ou faltantes do conjunto de dados\n",
        "train.isnull().sum()"
      ],
      "execution_count": 13,
      "outputs": [
        {
          "output_type": "execute_result",
          "data": {
            "text/plain": [
              "Offered_By             0\n",
              "Category               0\n",
              "Rating                 0\n",
              "Reviews                0\n",
              "Size                   0\n",
              "Price                  0\n",
              "Content_Rating         0\n",
              "Last_Updated_On        0\n",
              "Release_Version        0\n",
              "OS_Version_Required    0\n",
              "Downloads              0\n",
              "dtype: int64"
            ]
          },
          "metadata": {},
          "execution_count": 13
        }
      ]
    },
    {
      "cell_type": "code",
      "metadata": {
        "colab": {
          "base_uri": "https://localhost:8080/"
        },
        "id": "_ABkOnqgTeDy",
        "outputId": "816fd096-9608-4df7-a952-58021479d5f0"
      },
      "source": [
        "# contabiblizando valores nulos e/ou faltantes do conjunto de dados\n",
        "test.isnull().sum()"
      ],
      "execution_count": 14,
      "outputs": [
        {
          "output_type": "execute_result",
          "data": {
            "text/plain": [
              "Offered_By             0\n",
              "Category               0\n",
              "Rating                 0\n",
              "Reviews                0\n",
              "Size                   0\n",
              "Price                  0\n",
              "Content_Rating         0\n",
              "Last_Updated_On        0\n",
              "Release_Version        0\n",
              "OS_Version_Required    0\n",
              "dtype: int64"
            ]
          },
          "metadata": {},
          "execution_count": 14
        }
      ]
    },
    {
      "cell_type": "code",
      "metadata": {
        "colab": {
          "base_uri": "https://localhost:8080/"
        },
        "id": "4mAM899oTeBX",
        "outputId": "9fed7eae-89aa-4325-faff-f6f93e9eb10c"
      },
      "source": [
        "# tipo de dado dos atributos\n",
        "train.dtypes"
      ],
      "execution_count": 15,
      "outputs": [
        {
          "output_type": "execute_result",
          "data": {
            "text/plain": [
              "Offered_By              object\n",
              "Category                object\n",
              "Rating                 float64\n",
              "Reviews                  int64\n",
              "Size                    object\n",
              "Price                   object\n",
              "Content_Rating          object\n",
              "Last_Updated_On         object\n",
              "Release_Version         object\n",
              "OS_Version_Required     object\n",
              "Downloads               object\n",
              "dtype: object"
            ]
          },
          "metadata": {},
          "execution_count": 15
        }
      ]
    },
    {
      "cell_type": "code",
      "metadata": {
        "id": "s2ziY5fLTd_C"
      },
      "source": [
        "# concatenando as bases de dados\n",
        "df = train.append(test, ignore_index=True)"
      ],
      "execution_count": 16,
      "outputs": []
    },
    {
      "cell_type": "code",
      "metadata": {
        "colab": {
          "base_uri": "https://localhost:8080/",
          "height": 419
        },
        "id": "-JAK65VJTd8m",
        "outputId": "d6aedbbc-7394-47a7-b3b6-6e2bbee681ce"
      },
      "source": [
        "# visualizando o objeto criado\n",
        "df"
      ],
      "execution_count": 17,
      "outputs": [
        {
          "output_type": "execute_result",
          "data": {
            "text/html": [
              "<div>\n",
              "<style scoped>\n",
              "    .dataframe tbody tr th:only-of-type {\n",
              "        vertical-align: middle;\n",
              "    }\n",
              "\n",
              "    .dataframe tbody tr th {\n",
              "        vertical-align: top;\n",
              "    }\n",
              "\n",
              "    .dataframe thead th {\n",
              "        text-align: right;\n",
              "    }\n",
              "</style>\n",
              "<table border=\"1\" class=\"dataframe\">\n",
              "  <thead>\n",
              "    <tr style=\"text-align: right;\">\n",
              "      <th></th>\n",
              "      <th>Offered_By</th>\n",
              "      <th>Category</th>\n",
              "      <th>Rating</th>\n",
              "      <th>Reviews</th>\n",
              "      <th>Size</th>\n",
              "      <th>Price</th>\n",
              "      <th>Content_Rating</th>\n",
              "      <th>Last_Updated_On</th>\n",
              "      <th>Release_Version</th>\n",
              "      <th>OS_Version_Required</th>\n",
              "      <th>Downloads</th>\n",
              "    </tr>\n",
              "  </thead>\n",
              "  <tbody>\n",
              "    <tr>\n",
              "      <th>0</th>\n",
              "      <td>ps_id-24654</td>\n",
              "      <td>Finance</td>\n",
              "      <td>4.18</td>\n",
              "      <td>1481</td>\n",
              "      <td>Varies with device</td>\n",
              "      <td>Free</td>\n",
              "      <td>Everyone</td>\n",
              "      <td>May 05 2020</td>\n",
              "      <td>Varies with device</td>\n",
              "      <td>Varies with device</td>\n",
              "      <td>100,000+</td>\n",
              "    </tr>\n",
              "    <tr>\n",
              "      <th>1</th>\n",
              "      <td>ps_id-35329</td>\n",
              "      <td>Music And Audio</td>\n",
              "      <td>4.81</td>\n",
              "      <td>302</td>\n",
              "      <td>10M</td>\n",
              "      <td>Free</td>\n",
              "      <td>Everyone</td>\n",
              "      <td>Mar 26 2020</td>\n",
              "      <td>3.9.18</td>\n",
              "      <td>4.1 and up</td>\n",
              "      <td>5,000+</td>\n",
              "    </tr>\n",
              "    <tr>\n",
              "      <th>2</th>\n",
              "      <td>ps_id-11044</td>\n",
              "      <td>Game Casual</td>\n",
              "      <td>4.27</td>\n",
              "      <td>374</td>\n",
              "      <td>27M</td>\n",
              "      <td>Free</td>\n",
              "      <td>Everyone</td>\n",
              "      <td>May 01 2020</td>\n",
              "      <td>1.10.1</td>\n",
              "      <td>4.1 and up</td>\n",
              "      <td>10,000+</td>\n",
              "    </tr>\n",
              "    <tr>\n",
              "      <th>3</th>\n",
              "      <td>ps_id-36068</td>\n",
              "      <td>Business</td>\n",
              "      <td>4.03</td>\n",
              "      <td>122058</td>\n",
              "      <td>Varies with device</td>\n",
              "      <td>Free</td>\n",
              "      <td>Teen</td>\n",
              "      <td>May 02 2020</td>\n",
              "      <td>Varies with device</td>\n",
              "      <td>Varies with device</td>\n",
              "      <td>10,000,000+</td>\n",
              "    </tr>\n",
              "    <tr>\n",
              "      <th>4</th>\n",
              "      <td>ps_id-35831</td>\n",
              "      <td>Medical</td>\n",
              "      <td>4.60</td>\n",
              "      <td>358</td>\n",
              "      <td>Varies with device</td>\n",
              "      <td>297.5742</td>\n",
              "      <td>Everyone</td>\n",
              "      <td>Nov 29 2018</td>\n",
              "      <td>Varies with device</td>\n",
              "      <td>Varies with device</td>\n",
              "      <td>5,000+</td>\n",
              "    </tr>\n",
              "    <tr>\n",
              "      <th>...</th>\n",
              "      <td>...</td>\n",
              "      <td>...</td>\n",
              "      <td>...</td>\n",
              "      <td>...</td>\n",
              "      <td>...</td>\n",
              "      <td>...</td>\n",
              "      <td>...</td>\n",
              "      <td>...</td>\n",
              "      <td>...</td>\n",
              "      <td>...</td>\n",
              "      <td>...</td>\n",
              "    </tr>\n",
              "    <tr>\n",
              "      <th>41287</th>\n",
              "      <td>ps_id-30176</td>\n",
              "      <td>Shopping</td>\n",
              "      <td>3.74</td>\n",
              "      <td>38</td>\n",
              "      <td>21M</td>\n",
              "      <td>Free</td>\n",
              "      <td>Everyone</td>\n",
              "      <td>Feb 16 2020</td>\n",
              "      <td>2.4.20</td>\n",
              "      <td>4.1 and up</td>\n",
              "      <td>NaN</td>\n",
              "    </tr>\n",
              "    <tr>\n",
              "      <th>41288</th>\n",
              "      <td>ps_id-5357</td>\n",
              "      <td>Auto And Vehicles</td>\n",
              "      <td>4.80</td>\n",
              "      <td>4</td>\n",
              "      <td>4.5M</td>\n",
              "      <td>Free</td>\n",
              "      <td>Everyone</td>\n",
              "      <td>Jan 02 2019</td>\n",
              "      <td>1.3</td>\n",
              "      <td>5.0 and up</td>\n",
              "      <td>NaN</td>\n",
              "    </tr>\n",
              "    <tr>\n",
              "      <th>41289</th>\n",
              "      <td>ps_id-1920</td>\n",
              "      <td>Education</td>\n",
              "      <td>4.78</td>\n",
              "      <td>499</td>\n",
              "      <td>1.1M</td>\n",
              "      <td>Free</td>\n",
              "      <td>Everyone</td>\n",
              "      <td>Feb 16 2018</td>\n",
              "      <td>1.1</td>\n",
              "      <td>4.0.3 and up</td>\n",
              "      <td>NaN</td>\n",
              "    </tr>\n",
              "    <tr>\n",
              "      <th>41290</th>\n",
              "      <td>ps_id-6655</td>\n",
              "      <td>Game Puzzle</td>\n",
              "      <td>4.61</td>\n",
              "      <td>328050</td>\n",
              "      <td>72M</td>\n",
              "      <td>Free</td>\n",
              "      <td>Everyone</td>\n",
              "      <td>May 02 2020</td>\n",
              "      <td>2.5.3</td>\n",
              "      <td>4.1 and up</td>\n",
              "      <td>NaN</td>\n",
              "    </tr>\n",
              "    <tr>\n",
              "      <th>41291</th>\n",
              "      <td>ps_id-3916</td>\n",
              "      <td>Finance</td>\n",
              "      <td>3.98</td>\n",
              "      <td>1467</td>\n",
              "      <td>18M</td>\n",
              "      <td>Free</td>\n",
              "      <td>Everyone</td>\n",
              "      <td>Apr 30 2020</td>\n",
              "      <td>2.25.2</td>\n",
              "      <td>4.4 and up</td>\n",
              "      <td>NaN</td>\n",
              "    </tr>\n",
              "  </tbody>\n",
              "</table>\n",
              "<p>41292 rows × 11 columns</p>\n",
              "</div>"
            ],
            "text/plain": [
              "        Offered_By           Category  ...  OS_Version_Required    Downloads\n",
              "0      ps_id-24654            Finance  ...   Varies with device     100,000+\n",
              "1      ps_id-35329    Music And Audio  ...           4.1 and up       5,000+\n",
              "2      ps_id-11044        Game Casual  ...           4.1 and up      10,000+\n",
              "3      ps_id-36068           Business  ...   Varies with device  10,000,000+\n",
              "4      ps_id-35831            Medical  ...   Varies with device       5,000+\n",
              "...            ...                ...  ...                  ...          ...\n",
              "41287  ps_id-30176           Shopping  ...           4.1 and up          NaN\n",
              "41288   ps_id-5357  Auto And Vehicles  ...           5.0 and up          NaN\n",
              "41289   ps_id-1920          Education  ...         4.0.3 and up          NaN\n",
              "41290   ps_id-6655        Game Puzzle  ...           4.1 and up          NaN\n",
              "41291   ps_id-3916            Finance  ...           4.4 and up          NaN\n",
              "\n",
              "[41292 rows x 11 columns]"
            ]
          },
          "metadata": {},
          "execution_count": 17
        }
      ]
    },
    {
      "cell_type": "code",
      "metadata": {
        "colab": {
          "base_uri": "https://localhost:8080/"
        },
        "id": "TJYq9Jofc-Rp",
        "outputId": "ccbd87bf-ccc8-4b73-d045-5b5cc27cf199"
      },
      "source": [
        "# dimensão do objeto criado\n",
        "df.shape    # linhas e colunas"
      ],
      "execution_count": 18,
      "outputs": [
        {
          "output_type": "execute_result",
          "data": {
            "text/plain": [
              "(41292, 11)"
            ]
          },
          "metadata": {},
          "execution_count": 18
        }
      ]
    },
    {
      "cell_type": "code",
      "metadata": {
        "colab": {
          "base_uri": "https://localhost:8080/"
        },
        "id": "-QpHp8E0c-OW",
        "outputId": "855cde90-4b74-45cb-ca0d-5a40d1fea21c"
      },
      "source": [
        "# nomes das colunas\n",
        "df.columns"
      ],
      "execution_count": 19,
      "outputs": [
        {
          "output_type": "execute_result",
          "data": {
            "text/plain": [
              "Index(['Offered_By', 'Category', 'Rating', 'Reviews', 'Size', 'Price',\n",
              "       'Content_Rating', 'Last_Updated_On', 'Release_Version',\n",
              "       'OS_Version_Required', 'Downloads'],\n",
              "      dtype='object')"
            ]
          },
          "metadata": {},
          "execution_count": 19
        }
      ]
    },
    {
      "cell_type": "code",
      "metadata": {
        "colab": {
          "base_uri": "https://localhost:8080/"
        },
        "id": "UdV-ObYZc-L0",
        "outputId": "ad561716-ae06-4fc3-b1a1-a6cb7816adc3"
      },
      "source": [
        "# contabiblizando valores nulos e/ou faltantes do conjunto de dados\n",
        "df.isnull().sum()"
      ],
      "execution_count": 20,
      "outputs": [
        {
          "output_type": "execute_result",
          "data": {
            "text/plain": [
              "Offered_By                 0\n",
              "Category                   0\n",
              "Rating                     0\n",
              "Reviews                    0\n",
              "Size                       0\n",
              "Price                      0\n",
              "Content_Rating             0\n",
              "Last_Updated_On            0\n",
              "Release_Version            0\n",
              "OS_Version_Required        0\n",
              "Downloads              24776\n",
              "dtype: int64"
            ]
          },
          "metadata": {},
          "execution_count": 20
        }
      ]
    },
    {
      "cell_type": "code",
      "metadata": {
        "colab": {
          "base_uri": "https://localhost:8080/",
          "height": 529
        },
        "id": "hrE15L-IPk5Z",
        "outputId": "523a6ba7-bff7-4fb1-fadf-273a66c088f5"
      },
      "source": [
        "# visualizando graficamente shá presença de valores nulos e/ou faltantes\n",
        "plt.figure(figsize=[14, 7])\n",
        "sns.heatmap(df.isnull());"
      ],
      "execution_count": 21,
      "outputs": [
        {
          "output_type": "display_data",
          "data": {
            "image/png": "[encoded data removed]",
            "text/plain": [
              "<Figure size 1008x504 with 2 Axes>"
            ]
          },
          "metadata": {
            "needs_background": "light"
          }
        }
      ]
    },
    {
      "cell_type": "code",
      "metadata": {
        "colab": {
          "base_uri": "https://localhost:8080/"
        },
        "id": "48DtKd67c-HG",
        "outputId": "d7e99a48-97f3-49f5-f05f-5fe04a3f750e"
      },
      "source": [
        "# visualizando a quantidade de instâncias únicas do conjunto de dados\n",
        "df.nunique()"
      ],
      "execution_count": 22,
      "outputs": [
        {
          "output_type": "execute_result",
          "data": {
            "text/plain": [
              "Offered_By             36772\n",
              "Category                  51\n",
              "Rating                   347\n",
              "Reviews                18724\n",
              "Size                     703\n",
              "Price                    129\n",
              "Content_Rating             6\n",
              "Last_Updated_On         2012\n",
              "Release_Version         8052\n",
              "OS_Version_Required       37\n",
              "Downloads                 18\n",
              "dtype: int64"
            ]
          },
          "metadata": {},
          "execution_count": 22
        }
      ]
    },
    {
      "cell_type": "code",
      "metadata": {
        "colab": {
          "base_uri": "https://localhost:8080/"
        },
        "id": "oCX4M049c-JF",
        "outputId": "35ca2b4e-0cc8-49b3-f579-083902142e83"
      },
      "source": [
        "# visualizando as instâncias do atributo \"Size\"\n",
        "df['Size'].value_counts()"
      ],
      "execution_count": 23,
      "outputs": [
        {
          "output_type": "execute_result",
          "data": {
            "text/plain": [
              "Varies with device    4830\n",
              "11M                   1015\n",
              "12M                    872\n",
              "13M                    773\n",
              "14M                    761\n",
              "                      ... \n",
              "91k                      1\n",
              "458k                     1\n",
              "447k                     1\n",
              "457k                     1\n",
              "658k                     1\n",
              "Name: Size, Length: 703, dtype: int64"
            ]
          },
          "metadata": {},
          "execution_count": 23
        }
      ]
    },
    {
      "cell_type": "code",
      "metadata": {
        "colab": {
          "base_uri": "https://localhost:8080/"
        },
        "id": "tuK0gIaDc-Fy",
        "outputId": "3fe2f46d-cd32-46f5-973e-3afd26d70aec"
      },
      "source": [
        "# visualizando as instâncias únicas do atributo \"Category\"\n",
        "df['Category'].unique()"
      ],
      "execution_count": 24,
      "outputs": [
        {
          "output_type": "execute_result",
          "data": {
            "text/plain": [
              "array(['Finance', 'Music And Audio', 'Game Casual', 'Business', 'Medical',\n",
              "       'Books And Reference', 'Tools', 'Game', 'Travel And Local',\n",
              "       'Family', 'Game Simulation', 'Lifestyle', 'Comics', 'Education',\n",
              "       'Entertainment', 'Game Action', 'Social', 'Sports', 'Photography',\n",
              "       'Game Word', 'Game Trivia', 'Communication', 'News And Magazines',\n",
              "       'Game Board', 'House And Home', 'Personalization', 'Game Puzzle',\n",
              "       'Productivity', 'Health And Fitness', 'Shopping', 'Art And Design',\n",
              "       'Weather', 'Maps And Navigation', 'Dating', 'Game Arcade',\n",
              "       'Game Role Playing', 'Game Educational', 'Video Players',\n",
              "       'Game Strategy', 'Food And Drink', 'Game Sports',\n",
              "       'Auto And Vehicles', 'Events', 'Game Adventure', 'Parenting',\n",
              "       'Libraries And Demo', 'Game Racing', 'Game Card', 'Game Music',\n",
              "       'Game Casino', 'Beauty'], dtype=object)"
            ]
          },
          "metadata": {},
          "execution_count": 24
        }
      ]
    },
    {
      "cell_type": "code",
      "metadata": {
        "colab": {
          "base_uri": "https://localhost:8080/"
        },
        "id": "Dg4HGEF9c-E1",
        "outputId": "662129ef-011f-4775-a871-c519268284a6"
      },
      "source": [
        "# contabilizando as instâncias únicas do atributo \"Category\"\n",
        "df['Category'].value_counts()"
      ],
      "execution_count": 25,
      "outputs": [
        {
          "output_type": "execute_result",
          "data": {
            "text/plain": [
              "Education              3580\n",
              "Tools                  3130\n",
              "Entertainment          2232\n",
              "Books And Reference    1812\n",
              "Family                 1746\n",
              "Finance                1687\n",
              "Lifestyle              1682\n",
              "Productivity           1464\n",
              "Music And Audio        1342\n",
              "Business               1327\n",
              "Personalization        1151\n",
              "Health And Fitness     1098\n",
              "Game                   1094\n",
              "News And Magazines     1058\n",
              "Game Puzzle            1002\n",
              "Photography             979\n",
              "Communication           962\n",
              "Travel And Local        947\n",
              "Sports                  931\n",
              "Shopping                900\n",
              "Medical                 839\n",
              "Game Casual             707\n",
              "Social                  689\n",
              "Game Arcade             669\n",
              "Game Action             572\n",
              "Food And Drink          566\n",
              "Game Simulation         517\n",
              "Game Card               496\n",
              "Video Players           490\n",
              "Game Educational        488\n",
              "Maps And Navigation     485\n",
              "Game Role Playing       421\n",
              "Game Strategy           362\n",
              "Game Racing             319\n",
              "Game Adventure          315\n",
              "Game Sports             305\n",
              "Dating                  297\n",
              "Auto And Vehicles       295\n",
              "Weather                 275\n",
              "Game Word               271\n",
              "Game Board              271\n",
              "Art And Design          224\n",
              "House And Home          204\n",
              "Parenting               159\n",
              "Game Casino             158\n",
              "Game Trivia             143\n",
              "Comics                  138\n",
              "Events                  136\n",
              "Beauty                  132\n",
              "Libraries And Demo      128\n",
              "Game Music               97\n",
              "Name: Category, dtype: int64"
            ]
          },
          "metadata": {},
          "execution_count": 25
        }
      ]
    },
    {
      "cell_type": "markdown",
      "metadata": {
        "id": "f1xqwkISf6Kc"
      },
      "source": [
        "## **4. Pré-procesamento do conjunto de dados**"
      ]
    },
    {
      "cell_type": "code",
      "metadata": {
        "colab": {
          "base_uri": "https://localhost:8080/"
        },
        "id": "motzHLADc-Dv",
        "outputId": "e9ef93fd-2859-4d92-f4f3-ab39d00a5e50"
      },
      "source": [
        "# tratando o atributo \"Size\" (tamanho)\n",
        "# criando uma nova coluna \"Size_type\"\n",
        "df['Size_type'] = df['Size'].str.strip().str[-1]\n",
        "\n",
        "# informações gerais\n",
        "df.info()"
      ],
      "execution_count": 26,
      "outputs": [
        {
          "output_type": "stream",
          "name": "stdout",
          "text": [
            "<class 'pandas.core.frame.DataFrame'>\n",
            "RangeIndex: 41292 entries, 0 to 41291\n",
            "Data columns (total 12 columns):\n",
            " #   Column               Non-Null Count  Dtype  \n",
            "---  ------               --------------  -----  \n",
            " 0   Offered_By           41292 non-null  object \n",
            " 1   Category             41292 non-null  object \n",
            " 2   Rating               41292 non-null  float64\n",
            " 3   Reviews              41292 non-null  int64  \n",
            " 4   Size                 41292 non-null  object \n",
            " 5   Price                41292 non-null  object \n",
            " 6   Content_Rating       41292 non-null  object \n",
            " 7   Last_Updated_On      41292 non-null  object \n",
            " 8   Release_Version      41292 non-null  object \n",
            " 9   OS_Version_Required  41292 non-null  object \n",
            " 10  Downloads            16516 non-null  object \n",
            " 11  Size_type            41292 non-null  object \n",
            "dtypes: float64(1), int64(1), object(10)\n",
            "memory usage: 3.8+ MB\n"
          ]
        }
      ]
    },
    {
      "cell_type": "code",
      "metadata": {
        "id": "qh55zaxOc-CI"
      },
      "source": [
        "# lista para salvar o tratamento das instâncias da coluna criada \"Size_type\"\n",
        "x = []\n",
        "\n",
        "# realizando um loop para aplicar a transformação \n",
        "for i in df['Size_type']:\n",
        "    if i == 'e':\n",
        "        x.append(0)\n",
        "    elif i == 'M':\n",
        "        x.append(1024)\n",
        "    elif i == 'k':\n",
        "        x.append(1)\n",
        "\n",
        "# preenchendo o valor da coluna \"Size_type\" com os valores da lista \"x\"\n",
        "df['Size_type'] = x\n",
        "\n",
        "# extraindo o sinal de \"+\"\n",
        "df['Size_t'] = df['Size'].str.extract('(\\d+)')\n",
        "\n",
        "# substituindo os dados faltantes (missing) por zero\n",
        "df['Size_t'] = df['Size_t'].fillna(0)\n",
        "\n",
        "# multiplicando o campo pela sua dimensão (M: mega - multiplica por 1024)\n",
        "df['Size'] = df['Size_type'].astype(int) * df['Size_t'].astype(int)\n",
        "\n",
        "# deletando as colunas após o tratamento\n",
        "del df['Size_type']\n",
        "del df['Size_t']\n",
        "\n",
        "# imputação de dados de zero (0) pela média\n",
        "df['Size'] = df['Size'].replace(0, df['Size'].mean())\n"
      ],
      "execution_count": 27,
      "outputs": []
    },
    {
      "cell_type": "code",
      "metadata": {
        "colab": {
          "base_uri": "https://localhost:8080/",
          "height": 419
        },
        "id": "LYKeMAIYc9_K",
        "outputId": "02b6162f-4045-4aa0-fb4b-40dc436d33f2"
      },
      "source": [
        "# visualizando o \"df\" após os tratamentos\n",
        "df"
      ],
      "execution_count": 28,
      "outputs": [
        {
          "output_type": "execute_result",
          "data": {
            "text/html": [
              "<div>\n",
              "<style scoped>\n",
              "    .dataframe tbody tr th:only-of-type {\n",
              "        vertical-align: middle;\n",
              "    }\n",
              "\n",
              "    .dataframe tbody tr th {\n",
              "        vertical-align: top;\n",
              "    }\n",
              "\n",
              "    .dataframe thead th {\n",
              "        text-align: right;\n",
              "    }\n",
              "</style>\n",
              "<table border=\"1\" class=\"dataframe\">\n",
              "  <thead>\n",
              "    <tr style=\"text-align: right;\">\n",
              "      <th></th>\n",
              "      <th>Offered_By</th>\n",
              "      <th>Category</th>\n",
              "      <th>Rating</th>\n",
              "      <th>Reviews</th>\n",
              "      <th>Size</th>\n",
              "      <th>Price</th>\n",
              "      <th>Content_Rating</th>\n",
              "      <th>Last_Updated_On</th>\n",
              "      <th>Release_Version</th>\n",
              "      <th>OS_Version_Required</th>\n",
              "      <th>Downloads</th>\n",
              "    </tr>\n",
              "  </thead>\n",
              "  <tbody>\n",
              "    <tr>\n",
              "      <th>0</th>\n",
              "      <td>ps_id-24654</td>\n",
              "      <td>Finance</td>\n",
              "      <td>4.18</td>\n",
              "      <td>1481</td>\n",
              "      <td>20254.44413</td>\n",
              "      <td>Free</td>\n",
              "      <td>Everyone</td>\n",
              "      <td>May 05 2020</td>\n",
              "      <td>Varies with device</td>\n",
              "      <td>Varies with device</td>\n",
              "      <td>100,000+</td>\n",
              "    </tr>\n",
              "    <tr>\n",
              "      <th>1</th>\n",
              "      <td>ps_id-35329</td>\n",
              "      <td>Music And Audio</td>\n",
              "      <td>4.81</td>\n",
              "      <td>302</td>\n",
              "      <td>10240.00000</td>\n",
              "      <td>Free</td>\n",
              "      <td>Everyone</td>\n",
              "      <td>Mar 26 2020</td>\n",
              "      <td>3.9.18</td>\n",
              "      <td>4.1 and up</td>\n",
              "      <td>5,000+</td>\n",
              "    </tr>\n",
              "    <tr>\n",
              "      <th>2</th>\n",
              "      <td>ps_id-11044</td>\n",
              "      <td>Game Casual</td>\n",
              "      <td>4.27</td>\n",
              "      <td>374</td>\n",
              "      <td>27648.00000</td>\n",
              "      <td>Free</td>\n",
              "      <td>Everyone</td>\n",
              "      <td>May 01 2020</td>\n",
              "      <td>1.10.1</td>\n",
              "      <td>4.1 and up</td>\n",
              "      <td>10,000+</td>\n",
              "    </tr>\n",
              "    <tr>\n",
              "      <th>3</th>\n",
              "      <td>ps_id-36068</td>\n",
              "      <td>Business</td>\n",
              "      <td>4.03</td>\n",
              "      <td>122058</td>\n",
              "      <td>20254.44413</td>\n",
              "      <td>Free</td>\n",
              "      <td>Teen</td>\n",
              "      <td>May 02 2020</td>\n",
              "      <td>Varies with device</td>\n",
              "      <td>Varies with device</td>\n",
              "      <td>10,000,000+</td>\n",
              "    </tr>\n",
              "    <tr>\n",
              "      <th>4</th>\n",
              "      <td>ps_id-35831</td>\n",
              "      <td>Medical</td>\n",
              "      <td>4.60</td>\n",
              "      <td>358</td>\n",
              "      <td>20254.44413</td>\n",
              "      <td>297.5742</td>\n",
              "      <td>Everyone</td>\n",
              "      <td>Nov 29 2018</td>\n",
              "      <td>Varies with device</td>\n",
              "      <td>Varies with device</td>\n",
              "      <td>5,000+</td>\n",
              "    </tr>\n",
              "    <tr>\n",
              "      <th>...</th>\n",
              "      <td>...</td>\n",
              "      <td>...</td>\n",
              "      <td>...</td>\n",
              "      <td>...</td>\n",
              "      <td>...</td>\n",
              "      <td>...</td>\n",
              "      <td>...</td>\n",
              "      <td>...</td>\n",
              "      <td>...</td>\n",
              "      <td>...</td>\n",
              "      <td>...</td>\n",
              "    </tr>\n",
              "    <tr>\n",
              "      <th>41287</th>\n",
              "      <td>ps_id-30176</td>\n",
              "      <td>Shopping</td>\n",
              "      <td>3.74</td>\n",
              "      <td>38</td>\n",
              "      <td>21504.00000</td>\n",
              "      <td>Free</td>\n",
              "      <td>Everyone</td>\n",
              "      <td>Feb 16 2020</td>\n",
              "      <td>2.4.20</td>\n",
              "      <td>4.1 and up</td>\n",
              "      <td>NaN</td>\n",
              "    </tr>\n",
              "    <tr>\n",
              "      <th>41288</th>\n",
              "      <td>ps_id-5357</td>\n",
              "      <td>Auto And Vehicles</td>\n",
              "      <td>4.80</td>\n",
              "      <td>4</td>\n",
              "      <td>4096.00000</td>\n",
              "      <td>Free</td>\n",
              "      <td>Everyone</td>\n",
              "      <td>Jan 02 2019</td>\n",
              "      <td>1.3</td>\n",
              "      <td>5.0 and up</td>\n",
              "      <td>NaN</td>\n",
              "    </tr>\n",
              "    <tr>\n",
              "      <th>41289</th>\n",
              "      <td>ps_id-1920</td>\n",
              "      <td>Education</td>\n",
              "      <td>4.78</td>\n",
              "      <td>499</td>\n",
              "      <td>1024.00000</td>\n",
              "      <td>Free</td>\n",
              "      <td>Everyone</td>\n",
              "      <td>Feb 16 2018</td>\n",
              "      <td>1.1</td>\n",
              "      <td>4.0.3 and up</td>\n",
              "      <td>NaN</td>\n",
              "    </tr>\n",
              "    <tr>\n",
              "      <th>41290</th>\n",
              "      <td>ps_id-6655</td>\n",
              "      <td>Game Puzzle</td>\n",
              "      <td>4.61</td>\n",
              "      <td>328050</td>\n",
              "      <td>73728.00000</td>\n",
              "      <td>Free</td>\n",
              "      <td>Everyone</td>\n",
              "      <td>May 02 2020</td>\n",
              "      <td>2.5.3</td>\n",
              "      <td>4.1 and up</td>\n",
              "      <td>NaN</td>\n",
              "    </tr>\n",
              "    <tr>\n",
              "      <th>41291</th>\n",
              "      <td>ps_id-3916</td>\n",
              "      <td>Finance</td>\n",
              "      <td>3.98</td>\n",
              "      <td>1467</td>\n",
              "      <td>18432.00000</td>\n",
              "      <td>Free</td>\n",
              "      <td>Everyone</td>\n",
              "      <td>Apr 30 2020</td>\n",
              "      <td>2.25.2</td>\n",
              "      <td>4.4 and up</td>\n",
              "      <td>NaN</td>\n",
              "    </tr>\n",
              "  </tbody>\n",
              "</table>\n",
              "<p>41292 rows × 11 columns</p>\n",
              "</div>"
            ],
            "text/plain": [
              "        Offered_By           Category  ...  OS_Version_Required    Downloads\n",
              "0      ps_id-24654            Finance  ...   Varies with device     100,000+\n",
              "1      ps_id-35329    Music And Audio  ...           4.1 and up       5,000+\n",
              "2      ps_id-11044        Game Casual  ...           4.1 and up      10,000+\n",
              "3      ps_id-36068           Business  ...   Varies with device  10,000,000+\n",
              "4      ps_id-35831            Medical  ...   Varies with device       5,000+\n",
              "...            ...                ...  ...                  ...          ...\n",
              "41287  ps_id-30176           Shopping  ...           4.1 and up          NaN\n",
              "41288   ps_id-5357  Auto And Vehicles  ...           5.0 and up          NaN\n",
              "41289   ps_id-1920          Education  ...         4.0.3 and up          NaN\n",
              "41290   ps_id-6655        Game Puzzle  ...           4.1 and up          NaN\n",
              "41291   ps_id-3916            Finance  ...           4.4 and up          NaN\n",
              "\n",
              "[41292 rows x 11 columns]"
            ]
          },
          "metadata": {},
          "execution_count": 28
        }
      ]
    },
    {
      "cell_type": "code",
      "metadata": {
        "colab": {
          "base_uri": "https://localhost:8080/"
        },
        "id": "N-gZHkDrc986",
        "outputId": "9f0f2ca1-48c1-45d7-b1e0-1396e3d47af9"
      },
      "source": [
        "# informações gerais\n",
        "df.info()"
      ],
      "execution_count": 29,
      "outputs": [
        {
          "output_type": "stream",
          "name": "stdout",
          "text": [
            "<class 'pandas.core.frame.DataFrame'>\n",
            "RangeIndex: 41292 entries, 0 to 41291\n",
            "Data columns (total 11 columns):\n",
            " #   Column               Non-Null Count  Dtype  \n",
            "---  ------               --------------  -----  \n",
            " 0   Offered_By           41292 non-null  object \n",
            " 1   Category             41292 non-null  object \n",
            " 2   Rating               41292 non-null  float64\n",
            " 3   Reviews              41292 non-null  int64  \n",
            " 4   Size                 41292 non-null  float64\n",
            " 5   Price                41292 non-null  object \n",
            " 6   Content_Rating       41292 non-null  object \n",
            " 7   Last_Updated_On      41292 non-null  object \n",
            " 8   Release_Version      41292 non-null  object \n",
            " 9   OS_Version_Required  41292 non-null  object \n",
            " 10  Downloads            16516 non-null  object \n",
            "dtypes: float64(2), int64(1), object(8)\n",
            "memory usage: 3.5+ MB\n"
          ]
        }
      ]
    },
    {
      "cell_type": "code",
      "metadata": {
        "id": "4CyrSLcFc94E"
      },
      "source": [
        "# substituindo a instância \"free\" do atributo \"Price\" por zero (0)\n",
        "df['Price'] = df['Price'].replace('Free', 0).astype(float)"
      ],
      "execution_count": 30,
      "outputs": []
    },
    {
      "cell_type": "code",
      "metadata": {
        "colab": {
          "base_uri": "https://localhost:8080/"
        },
        "id": "gx8JaTFDc900",
        "outputId": "9ac679f9-5ee5-4832-cdd2-191916028a1e"
      },
      "source": [
        "# visualizando as instâncias únicas do atributo \"Price\"\n",
        "df['Price'].unique()"
      ],
      "execution_count": 31,
      "outputs": [
        {
          "output_type": "execute_result",
          "data": {
            "text/plain": [
              "array([    0.    ,   297.5742,   222.9942,   111.1242,   372.1542,\n",
              "         148.4142,    73.8342,   894.2142,   446.7342,   670.4742,\n",
              "         745.0542,  2833.2942,   409.4442,   190.9248,   260.2842,\n",
              "        1863.7542,   185.7042,   334.8642,   595.8942,  1341.6942,\n",
              "         126.786 ,   131.2608,   319.9482,  2236.6542, 29831.2542,\n",
              "         521.3142, 28339.6542,   968.7942,   335.61  ,  1192.5342,\n",
              "         298.32  ,  1117.9542,   186.45  ,   164.076 ,   342.3222,\n",
              "          88.7502,   264.759 ,   577.2492,   742.071 ,  2087.4942,\n",
              "        1490.8542,    78.309 ,   447.48  , 29085.4542,   428.0892,\n",
              "         707.7642,   558.6042,   178.992 ,   369.171 ,   240.1476,\n",
              "         355.7466,   633.1842,   360.9672,    96.2082,   149.16  ,\n",
              "         429.5808,   484.0242,  1043.3742,   118.5822,   287.133 ,\n",
              "         656.304 ,    93.9708,    74.58  ,   111.87  ,   730.1382,\n",
              "         229.7064,   284.1498,  1789.1742,   289.3704,   279.675 ,\n",
              "         469.1082,   223.74  ,  2385.8142,  1416.2742,   225.2316,\n",
              "         216.282 ,   120.0738,  5592.7542,   208.0782,  1098.5634,\n",
              "        2534.9742,   801.735 ,  1267.1142,   510.873 ,   671.22  ,\n",
              "         431.0724,  1044.8658,   364.6962,   193.1622,  2982.4542,\n",
              "         819.6342,  1446.852 ,  4101.1542,   745.8   ,   294.591 ,\n",
              "        1153.0068,  5965.6542,   226.7232,  2460.3942,    89.496 ,\n",
              "        1566.18  ,   500.4318,    81.2922,   134.244 ,   372.9   ,\n",
              "        1387.188 , 29832.    ,  3429.9342,   244.6224, 22373.2542,\n",
              "         104.412 ,   146.9226,   245.3682,   343.068 ,  1113.4794,\n",
              "         141.702 ,   290.862 ,  6338.5542,  2609.5542,   349.7802,\n",
              "         894.96  ,  1714.5942,   397.5114,   130.515 ,   469.854 ,\n",
              "         220.011 ,  1044.12  ,    93.225 ,  7457.2542])"
            ]
          },
          "metadata": {},
          "execution_count": 31
        }
      ]
    },
    {
      "cell_type": "code",
      "metadata": {
        "id": "Whr2pSkHmhK5"
      },
      "source": [
        "# tranformando as instâncias do atributo \"Last_Updated_On\" para o tipo datatime\n",
        "df['Last_Updated_On'] = pd.to_datetime(df['Last_Updated_On'])"
      ],
      "execution_count": 32,
      "outputs": []
    },
    {
      "cell_type": "code",
      "metadata": {
        "colab": {
          "base_uri": "https://localhost:8080/"
        },
        "id": "5oIwIisJmhIT",
        "outputId": "95c2a089-69bb-4d0f-91c3-9a6225040ab7"
      },
      "source": [
        "# informações gerais\n",
        "df.info()"
      ],
      "execution_count": 33,
      "outputs": [
        {
          "output_type": "stream",
          "name": "stdout",
          "text": [
            "<class 'pandas.core.frame.DataFrame'>\n",
            "RangeIndex: 41292 entries, 0 to 41291\n",
            "Data columns (total 11 columns):\n",
            " #   Column               Non-Null Count  Dtype         \n",
            "---  ------               --------------  -----         \n",
            " 0   Offered_By           41292 non-null  object        \n",
            " 1   Category             41292 non-null  object        \n",
            " 2   Rating               41292 non-null  float64       \n",
            " 3   Reviews              41292 non-null  int64         \n",
            " 4   Size                 41292 non-null  float64       \n",
            " 5   Price                41292 non-null  float64       \n",
            " 6   Content_Rating       41292 non-null  object        \n",
            " 7   Last_Updated_On      41292 non-null  datetime64[ns]\n",
            " 8   Release_Version      41292 non-null  object        \n",
            " 9   OS_Version_Required  41292 non-null  object        \n",
            " 10  Downloads            16516 non-null  object        \n",
            "dtypes: datetime64[ns](1), float64(3), int64(1), object(6)\n",
            "memory usage: 3.5+ MB\n"
          ]
        }
      ]
    },
    {
      "cell_type": "code",
      "metadata": {
        "colab": {
          "base_uri": "https://localhost:8080/"
        },
        "id": "IHLvlibtpSda",
        "outputId": "f3574b95-bb9c-4e71-ce14-082780078b7e"
      },
      "source": [
        "# visualizando o atributo \"Last_Updated_On\"\n",
        "df['Last_Updated_On'].head()"
      ],
      "execution_count": 34,
      "outputs": [
        {
          "output_type": "execute_result",
          "data": {
            "text/plain": [
              "0   2020-05-05\n",
              "1   2020-03-26\n",
              "2   2020-05-01\n",
              "3   2020-05-02\n",
              "4   2018-11-29\n",
              "Name: Last_Updated_On, dtype: datetime64[ns]"
            ]
          },
          "metadata": {},
          "execution_count": 34
        }
      ]
    },
    {
      "cell_type": "code",
      "metadata": {
        "id": "EYfyYkZroS7R"
      },
      "source": [
        "# criando variáveis de séries temporais\n",
        "k = ['Last_Updated_On']\n",
        "\n",
        "for i in k:\n",
        "    df[i + '_' + 'year'] = df[i].dt.year\n",
        "    df[i + '_' + 'day'] = df[i].dt.day\n",
        "    df[i + '_' + 'weekofyear'] = df[i].dt.weekofyear\n",
        "    df[i + '_' + 'month'] = df[i].dt.month\n",
        "    df[i + '_' + 'dayofweek'] = df[i].dt.dayofweek\n",
        "    df[i + '_' + 'weekend'] = (df[i].dt.weekday >= 5).astype(int)\n",
        "\n",
        "# deletando a coluna do conjunto de dados\n",
        "del df['Last_Updated_On']"
      ],
      "execution_count": 35,
      "outputs": []
    },
    {
      "cell_type": "code",
      "metadata": {
        "colab": {
          "base_uri": "https://localhost:8080/"
        },
        "id": "3lQgwz-TmhDT",
        "outputId": "7a024d99-1031-4c1f-8a60-9a5362ee159c"
      },
      "source": [
        "# visualizando as 5 últimos atributos da base de dados\n",
        "df.columns[-5:]"
      ],
      "execution_count": 36,
      "outputs": [
        {
          "output_type": "execute_result",
          "data": {
            "text/plain": [
              "Index(['Last_Updated_On_day', 'Last_Updated_On_weekofyear',\n",
              "       'Last_Updated_On_month', 'Last_Updated_On_dayofweek',\n",
              "       'Last_Updated_On_weekend'],\n",
              "      dtype='object')"
            ]
          },
          "metadata": {},
          "execution_count": 36
        }
      ]
    },
    {
      "cell_type": "code",
      "metadata": {
        "colab": {
          "base_uri": "https://localhost:8080/"
        },
        "id": "5gODur5emg-U",
        "outputId": "4b8870ba-f6dd-4286-d0bf-c677377f72f3"
      },
      "source": [
        "# frequência das instâncias do atributo \"Release_Version\"\n",
        "df['Release_Version'].value_counts()"
      ],
      "execution_count": 37,
      "outputs": [
        {
          "output_type": "execute_result",
          "data": {
            "text/plain": [
              "Varies with device    3880\n",
              "1                     1758\n",
              "1.1                    910\n",
              "1.2                    723\n",
              "1.3                    573\n",
              "                      ... \n",
              "3.1.0.1-r4               1\n",
              "2.33.0                   1\n",
              "1.00.04                  1\n",
              "2.1901.2                 1\n",
              "7.5.7                    1\n",
              "Name: Release_Version, Length: 8052, dtype: int64"
            ]
          },
          "metadata": {},
          "execution_count": 37
        }
      ]
    },
    {
      "cell_type": "code",
      "metadata": {
        "id": "R-B32gxzmg71"
      },
      "source": [
        "# atribuindo valor de zero (0) para a instância \"Varies with device\"\n",
        "df['Release_Version'] = df['Release_Version'].replace('Varies with device', '0')"
      ],
      "execution_count": 38,
      "outputs": []
    },
    {
      "cell_type": "code",
      "metadata": {
        "colab": {
          "base_uri": "https://localhost:8080/"
        },
        "id": "AUVZFJiVmg5Q",
        "outputId": "9c293167-8c39-4107-810e-59623bb485e7"
      },
      "source": [
        "# contabilizando a distribuição dos dados do atributo \"Release_Version\"\n",
        "df['Release_Version'].value_counts()"
      ],
      "execution_count": 39,
      "outputs": [
        {
          "output_type": "execute_result",
          "data": {
            "text/plain": [
              "0               3880\n",
              "1               1758\n",
              "1.1              910\n",
              "1.2              723\n",
              "1.3              573\n",
              "                ... \n",
              "1.14.0.1           1\n",
              "5.0.109            1\n",
              "4.58.ww            1\n",
              "5.0.20181014       1\n",
              "7.5.7              1\n",
              "Name: Release_Version, Length: 8052, dtype: int64"
            ]
          },
          "metadata": {},
          "execution_count": 39
        }
      ]
    },
    {
      "cell_type": "code",
      "metadata": {
        "id": "ZxvX9Z3PxR2e"
      },
      "source": [
        "# criando uma função para separar as colunas numéricas e categóricas do conjunto de dados\n",
        "df_copy = df.copy()     # criando uma cópia da base de dados\n",
        "\n",
        "def separate_cols(df):\n",
        "    cols_cats = []\n",
        "    cols_nums = []\n",
        "\n",
        "    for col in df.columns:     # excluindo a último coluna - o alvo\n",
        "    # for col in df.drop('Downloads'):\n",
        "        if df.dtypes[col] == 'object':\n",
        "            cols_cats.append(col)\n",
        "        else:\n",
        "            cols_nums.append(col)\n",
        "    \n",
        "    return f'cols categ: {len(cols_cats), cols_cats}', f'cols nums: {len(cols_nums), cols_nums}'"
      ],
      "execution_count": 40,
      "outputs": []
    },
    {
      "cell_type": "code",
      "metadata": {
        "colab": {
          "base_uri": "https://localhost:8080/"
        },
        "id": "kMfvStUjxW-F",
        "outputId": "b0e0b462-be43-4df2-89d7-655f04de27f7"
      },
      "source": [
        "# aplicando a função no df_copy\n",
        "separate_cols(df_copy)"
      ],
      "execution_count": 41,
      "outputs": [
        {
          "output_type": "execute_result",
          "data": {
            "text/plain": [
              "(\"cols categ: (6, ['Offered_By', 'Category', 'Content_Rating', 'Release_Version', 'OS_Version_Required', 'Downloads'])\",\n",
              " \"cols nums: (10, ['Rating', 'Reviews', 'Size', 'Price', 'Last_Updated_On_year', 'Last_Updated_On_day', 'Last_Updated_On_weekofyear', 'Last_Updated_On_month', 'Last_Updated_On_dayofweek', 'Last_Updated_On_weekend'])\")"
            ]
          },
          "metadata": {},
          "execution_count": 41
        }
      ]
    },
    {
      "cell_type": "code",
      "metadata": {
        "id": "TkK3BVlhmg20"
      },
      "source": [
        "# realizando o \"label encoding\" (dummies) nos atributos \"Release_Version\" e \"Category\"\n",
        "\n",
        "# importando a biblioteca\n",
        "from sklearn.preprocessing import LabelEncoder\n",
        "\n",
        "# instanciando a função\n",
        "encoder = LabelEncoder()"
      ],
      "execution_count": 42,
      "outputs": []
    },
    {
      "cell_type": "code",
      "metadata": {
        "colab": {
          "base_uri": "https://localhost:8080/"
        },
        "id": "KWrYXoXzvSXe",
        "outputId": "dfb5171d-1785-47a0-8f20-c00c7c17b8b1"
      },
      "source": [
        "# aplicando a função no atributo de interesse, nesse caso o \"Release_Version\"\n",
        "df['Release_Version'] = encoder.fit_transform(df['Release_Version'])\n",
        "\n",
        "# visualizando as classes criadas pelo encoder\n",
        "encoder.classes_"
      ],
      "execution_count": 43,
      "outputs": [
        {
          "output_type": "execute_result",
          "data": {
            "text/plain": [
              "array(['0', '0.0.0-34-animals', '0.0.0-34-leaders', ..., 'Zs 5.2',\n",
              "       '_18.08.01_ps', '_19.02.01-us_sy_ps'], dtype=object)"
            ]
          },
          "metadata": {},
          "execution_count": 43
        }
      ]
    },
    {
      "cell_type": "code",
      "metadata": {
        "colab": {
          "base_uri": "https://localhost:8080/"
        },
        "id": "PFhN95cZmg0P",
        "outputId": "7dbc6567-758e-430f-994d-04bf3a39368b"
      },
      "source": [
        "# aplicando a função no atributo de interesse, nesse caso o \"Category\"\n",
        "df['Category'] = encoder.fit_transform(df['Category'])\n",
        "\n",
        "# visualizando as classes criadas pelo encoder\n",
        "encoder.classes_"
      ],
      "execution_count": 44,
      "outputs": [
        {
          "output_type": "execute_result",
          "data": {
            "text/plain": [
              "array(['Art And Design', 'Auto And Vehicles', 'Beauty',\n",
              "       'Books And Reference', 'Business', 'Comics', 'Communication',\n",
              "       'Dating', 'Education', 'Entertainment', 'Events', 'Family',\n",
              "       'Finance', 'Food And Drink', 'Game', 'Game Action',\n",
              "       'Game Adventure', 'Game Arcade', 'Game Board', 'Game Card',\n",
              "       'Game Casino', 'Game Casual', 'Game Educational', 'Game Music',\n",
              "       'Game Puzzle', 'Game Racing', 'Game Role Playing',\n",
              "       'Game Simulation', 'Game Sports', 'Game Strategy', 'Game Trivia',\n",
              "       'Game Word', 'Health And Fitness', 'House And Home',\n",
              "       'Libraries And Demo', 'Lifestyle', 'Maps And Navigation',\n",
              "       'Medical', 'Music And Audio', 'News And Magazines', 'Parenting',\n",
              "       'Personalization', 'Photography', 'Productivity', 'Shopping',\n",
              "       'Social', 'Sports', 'Tools', 'Travel And Local', 'Video Players',\n",
              "       'Weather'], dtype=object)"
            ]
          },
          "metadata": {},
          "execution_count": 44
        }
      ]
    },
    {
      "cell_type": "code",
      "metadata": {
        "colab": {
          "base_uri": "https://localhost:8080/"
        },
        "id": "h2VCYCkDmgxh",
        "outputId": "b09e05d9-0ae9-46f4-f8ef-bfb9d7651a70"
      },
      "source": [
        "# aplicando a função no atributo de interesse, nesse caso o \"Content_Rating\"\n",
        "df['Content_Rating'] = encoder.fit_transform(df['Content_Rating'])\n",
        "\n",
        "# visualizando as classes criadas pelo encoder\n",
        "encoder.classes_"
      ],
      "execution_count": 45,
      "outputs": [
        {
          "output_type": "execute_result",
          "data": {
            "text/plain": [
              "array(['Adults only 18+', 'Everyone', 'Everyone 10+', 'Mature 17+',\n",
              "       'Teen', 'Unrated'], dtype=object)"
            ]
          },
          "metadata": {},
          "execution_count": 45
        }
      ]
    },
    {
      "cell_type": "code",
      "metadata": {
        "colab": {
          "base_uri": "https://localhost:8080/"
        },
        "id": "ODyDLkqFmgvK",
        "outputId": "3ab567f5-17a4-4796-ada0-769474acf9fb"
      },
      "source": [
        "# aplicando a função no atributo de interesse, nesse caso o \"OS_Version_Required\"\n",
        "df['OS_Version_Required'] = encoder.fit_transform(df['OS_Version_Required'])\n",
        "\n",
        "# visualizando as classes criadas pelo encoder\n",
        "encoder.classes_"
      ],
      "execution_count": 46,
      "outputs": [
        {
          "output_type": "execute_result",
          "data": {
            "text/plain": [
              "array(['1.0 and up', '1.1 and up', '1.5 and up', '1.6 and up',\n",
              "       '2.0 and up', '2.0.1 and up', '2.1 and up', '2.2 - 6.0',\n",
              "       '2.2 and up', '2.3 - 3.2', '2.3 and up', '2.3.3 and up',\n",
              "       '3.0 and up', '3.1 and up', '3.2 and up', '4.0 - 5.1',\n",
              "       '4.0 and up', '4.0.3 - 7.1.1', '4.0.3 and up', '4.1 - 7.1.1',\n",
              "       '4.1 - 8.0', '4.1 and up', '4.2 - 8.0', '4.2 and up', '4.3 and up',\n",
              "       '4.4 and up', '4.4w and up', '5.0 - 6.0', '5.0 - 8.0',\n",
              "       '5.0 and up', '5.1 and up', '6.0 and up', '7.0 - 7.1.1',\n",
              "       '7.0 and up', '7.1 and up', '8.0 and up', 'Varies with device'],\n",
              "      dtype=object)"
            ]
          },
          "metadata": {},
          "execution_count": 46
        }
      ]
    },
    {
      "cell_type": "code",
      "metadata": {
        "id": "LKgXmlthmgtK"
      },
      "source": [
        "# eliminando o sinal de \"+\" das instâncias do atributo \"Offered_By\"\n",
        "df['Offered_By'] = df['Offered_By'].str.extract('(\\d+)').astype(int)"
      ],
      "execution_count": 47,
      "outputs": []
    },
    {
      "cell_type": "code",
      "metadata": {
        "colab": {
          "base_uri": "https://localhost:8080/",
          "height": 439
        },
        "id": "MytChUMimgqf",
        "outputId": "777a35e3-fd08-4970-f633-9e8cffd7399f"
      },
      "source": [
        "# visualizando o conjunto de dados\n",
        "df"
      ],
      "execution_count": 48,
      "outputs": [
        {
          "output_type": "execute_result",
          "data": {
            "text/html": [
              "<div>\n",
              "<style scoped>\n",
              "    .dataframe tbody tr th:only-of-type {\n",
              "        vertical-align: middle;\n",
              "    }\n",
              "\n",
              "    .dataframe tbody tr th {\n",
              "        vertical-align: top;\n",
              "    }\n",
              "\n",
              "    .dataframe thead th {\n",
              "        text-align: right;\n",
              "    }\n",
              "</style>\n",
              "<table border=\"1\" class=\"dataframe\">\n",
              "  <thead>\n",
              "    <tr style=\"text-align: right;\">\n",
              "      <th></th>\n",
              "      <th>Offered_By</th>\n",
              "      <th>Category</th>\n",
              "      <th>Rating</th>\n",
              "      <th>Reviews</th>\n",
              "      <th>Size</th>\n",
              "      <th>Price</th>\n",
              "      <th>Content_Rating</th>\n",
              "      <th>Release_Version</th>\n",
              "      <th>OS_Version_Required</th>\n",
              "      <th>Downloads</th>\n",
              "      <th>Last_Updated_On_year</th>\n",
              "      <th>Last_Updated_On_day</th>\n",
              "      <th>Last_Updated_On_weekofyear</th>\n",
              "      <th>Last_Updated_On_month</th>\n",
              "      <th>Last_Updated_On_dayofweek</th>\n",
              "      <th>Last_Updated_On_weekend</th>\n",
              "    </tr>\n",
              "  </thead>\n",
              "  <tbody>\n",
              "    <tr>\n",
              "      <th>0</th>\n",
              "      <td>24654</td>\n",
              "      <td>12</td>\n",
              "      <td>4.18</td>\n",
              "      <td>1481</td>\n",
              "      <td>20254.44413</td>\n",
              "      <td>0.0000</td>\n",
              "      <td>1</td>\n",
              "      <td>0</td>\n",
              "      <td>36</td>\n",
              "      <td>100,000+</td>\n",
              "      <td>2020</td>\n",
              "      <td>5</td>\n",
              "      <td>19</td>\n",
              "      <td>5</td>\n",
              "      <td>1</td>\n",
              "      <td>0</td>\n",
              "    </tr>\n",
              "    <tr>\n",
              "      <th>1</th>\n",
              "      <td>35329</td>\n",
              "      <td>38</td>\n",
              "      <td>4.81</td>\n",
              "      <td>302</td>\n",
              "      <td>10240.00000</td>\n",
              "      <td>0.0000</td>\n",
              "      <td>1</td>\n",
              "      <td>5407</td>\n",
              "      <td>21</td>\n",
              "      <td>5,000+</td>\n",
              "      <td>2020</td>\n",
              "      <td>26</td>\n",
              "      <td>13</td>\n",
              "      <td>3</td>\n",
              "      <td>3</td>\n",
              "      <td>0</td>\n",
              "    </tr>\n",
              "    <tr>\n",
              "      <th>2</th>\n",
              "      <td>11044</td>\n",
              "      <td>21</td>\n",
              "      <td>4.27</td>\n",
              "      <td>374</td>\n",
              "      <td>27648.00000</td>\n",
              "      <td>0.0000</td>\n",
              "      <td>1</td>\n",
              "      <td>980</td>\n",
              "      <td>21</td>\n",
              "      <td>10,000+</td>\n",
              "      <td>2020</td>\n",
              "      <td>1</td>\n",
              "      <td>18</td>\n",
              "      <td>5</td>\n",
              "      <td>4</td>\n",
              "      <td>0</td>\n",
              "    </tr>\n",
              "    <tr>\n",
              "      <th>3</th>\n",
              "      <td>36068</td>\n",
              "      <td>4</td>\n",
              "      <td>4.03</td>\n",
              "      <td>122058</td>\n",
              "      <td>20254.44413</td>\n",
              "      <td>0.0000</td>\n",
              "      <td>4</td>\n",
              "      <td>0</td>\n",
              "      <td>36</td>\n",
              "      <td>10,000,000+</td>\n",
              "      <td>2020</td>\n",
              "      <td>2</td>\n",
              "      <td>18</td>\n",
              "      <td>5</td>\n",
              "      <td>5</td>\n",
              "      <td>1</td>\n",
              "    </tr>\n",
              "    <tr>\n",
              "      <th>4</th>\n",
              "      <td>35831</td>\n",
              "      <td>37</td>\n",
              "      <td>4.60</td>\n",
              "      <td>358</td>\n",
              "      <td>20254.44413</td>\n",
              "      <td>297.5742</td>\n",
              "      <td>1</td>\n",
              "      <td>0</td>\n",
              "      <td>36</td>\n",
              "      <td>5,000+</td>\n",
              "      <td>2018</td>\n",
              "      <td>29</td>\n",
              "      <td>48</td>\n",
              "      <td>11</td>\n",
              "      <td>3</td>\n",
              "      <td>0</td>\n",
              "    </tr>\n",
              "    <tr>\n",
              "      <th>...</th>\n",
              "      <td>...</td>\n",
              "      <td>...</td>\n",
              "      <td>...</td>\n",
              "      <td>...</td>\n",
              "      <td>...</td>\n",
              "      <td>...</td>\n",
              "      <td>...</td>\n",
              "      <td>...</td>\n",
              "      <td>...</td>\n",
              "      <td>...</td>\n",
              "      <td>...</td>\n",
              "      <td>...</td>\n",
              "      <td>...</td>\n",
              "      <td>...</td>\n",
              "      <td>...</td>\n",
              "      <td>...</td>\n",
              "    </tr>\n",
              "    <tr>\n",
              "      <th>41287</th>\n",
              "      <td>30176</td>\n",
              "      <td>44</td>\n",
              "      <td>3.74</td>\n",
              "      <td>38</td>\n",
              "      <td>21504.00000</td>\n",
              "      <td>0.0000</td>\n",
              "      <td>1</td>\n",
              "      <td>3951</td>\n",
              "      <td>21</td>\n",
              "      <td>NaN</td>\n",
              "      <td>2020</td>\n",
              "      <td>16</td>\n",
              "      <td>7</td>\n",
              "      <td>2</td>\n",
              "      <td>6</td>\n",
              "      <td>1</td>\n",
              "    </tr>\n",
              "    <tr>\n",
              "      <th>41288</th>\n",
              "      <td>5357</td>\n",
              "      <td>1</td>\n",
              "      <td>4.80</td>\n",
              "      <td>4</td>\n",
              "      <td>4096.00000</td>\n",
              "      <td>0.0000</td>\n",
              "      <td>1</td>\n",
              "      <td>1559</td>\n",
              "      <td>29</td>\n",
              "      <td>NaN</td>\n",
              "      <td>2019</td>\n",
              "      <td>2</td>\n",
              "      <td>1</td>\n",
              "      <td>1</td>\n",
              "      <td>2</td>\n",
              "      <td>0</td>\n",
              "    </tr>\n",
              "    <tr>\n",
              "      <th>41289</th>\n",
              "      <td>1920</td>\n",
              "      <td>8</td>\n",
              "      <td>4.78</td>\n",
              "      <td>499</td>\n",
              "      <td>1024.00000</td>\n",
              "      <td>0.0000</td>\n",
              "      <td>1</td>\n",
              "      <td>797</td>\n",
              "      <td>18</td>\n",
              "      <td>NaN</td>\n",
              "      <td>2018</td>\n",
              "      <td>16</td>\n",
              "      <td>7</td>\n",
              "      <td>2</td>\n",
              "      <td>4</td>\n",
              "      <td>0</td>\n",
              "    </tr>\n",
              "    <tr>\n",
              "      <th>41290</th>\n",
              "      <td>6655</td>\n",
              "      <td>24</td>\n",
              "      <td>4.61</td>\n",
              "      <td>328050</td>\n",
              "      <td>73728.00000</td>\n",
              "      <td>0.0000</td>\n",
              "      <td>1</td>\n",
              "      <td>4068</td>\n",
              "      <td>21</td>\n",
              "      <td>NaN</td>\n",
              "      <td>2020</td>\n",
              "      <td>2</td>\n",
              "      <td>18</td>\n",
              "      <td>5</td>\n",
              "      <td>5</td>\n",
              "      <td>1</td>\n",
              "    </tr>\n",
              "    <tr>\n",
              "      <th>41291</th>\n",
              "      <td>3916</td>\n",
              "      <td>12</td>\n",
              "      <td>3.98</td>\n",
              "      <td>1467</td>\n",
              "      <td>18432.00000</td>\n",
              "      <td>0.0000</td>\n",
              "      <td>1</td>\n",
              "      <td>3761</td>\n",
              "      <td>25</td>\n",
              "      <td>NaN</td>\n",
              "      <td>2020</td>\n",
              "      <td>30</td>\n",
              "      <td>18</td>\n",
              "      <td>4</td>\n",
              "      <td>3</td>\n",
              "      <td>0</td>\n",
              "    </tr>\n",
              "  </tbody>\n",
              "</table>\n",
              "<p>41292 rows × 16 columns</p>\n",
              "</div>"
            ],
            "text/plain": [
              "       Offered_By  Category  ...  Last_Updated_On_dayofweek  Last_Updated_On_weekend\n",
              "0           24654        12  ...                          1                        0\n",
              "1           35329        38  ...                          3                        0\n",
              "2           11044        21  ...                          4                        0\n",
              "3           36068         4  ...                          5                        1\n",
              "4           35831        37  ...                          3                        0\n",
              "...           ...       ...  ...                        ...                      ...\n",
              "41287       30176        44  ...                          6                        1\n",
              "41288        5357         1  ...                          2                        0\n",
              "41289        1920         8  ...                          4                        0\n",
              "41290        6655        24  ...                          5                        1\n",
              "41291        3916        12  ...                          3                        0\n",
              "\n",
              "[41292 rows x 16 columns]"
            ]
          },
          "metadata": {},
          "execution_count": 48
        }
      ]
    },
    {
      "cell_type": "code",
      "metadata": {
        "id": "bKLlSFrPmgoJ"
      },
      "source": [
        "# instanciando as bases de dados de treino e teste\n",
        "train = df[df['Downloads'].isnull() == False]\n",
        "test = df[df['Downloads'].isnull() == True]\n",
        "\n",
        "# deletando o atributo \"Dwnloads\" da base de dados de teste\n",
        "del test['Downloads']"
      ],
      "execution_count": 49,
      "outputs": []
    },
    {
      "cell_type": "code",
      "metadata": {
        "colab": {
          "base_uri": "https://localhost:8080/",
          "height": 439
        },
        "id": "pPFzgpFwmglx",
        "outputId": "128924ce-1836-4d71-c4dc-fe6a4d08e660"
      },
      "source": [
        "# visualizando a base de dados de treino\n",
        "train"
      ],
      "execution_count": 50,
      "outputs": [
        {
          "output_type": "execute_result",
          "data": {
            "text/html": [
              "<div>\n",
              "<style scoped>\n",
              "    .dataframe tbody tr th:only-of-type {\n",
              "        vertical-align: middle;\n",
              "    }\n",
              "\n",
              "    .dataframe tbody tr th {\n",
              "        vertical-align: top;\n",
              "    }\n",
              "\n",
              "    .dataframe thead th {\n",
              "        text-align: right;\n",
              "    }\n",
              "</style>\n",
              "<table border=\"1\" class=\"dataframe\">\n",
              "  <thead>\n",
              "    <tr style=\"text-align: right;\">\n",
              "      <th></th>\n",
              "      <th>Offered_By</th>\n",
              "      <th>Category</th>\n",
              "      <th>Rating</th>\n",
              "      <th>Reviews</th>\n",
              "      <th>Size</th>\n",
              "      <th>Price</th>\n",
              "      <th>Content_Rating</th>\n",
              "      <th>Release_Version</th>\n",
              "      <th>OS_Version_Required</th>\n",
              "      <th>Downloads</th>\n",
              "      <th>Last_Updated_On_year</th>\n",
              "      <th>Last_Updated_On_day</th>\n",
              "      <th>Last_Updated_On_weekofyear</th>\n",
              "      <th>Last_Updated_On_month</th>\n",
              "      <th>Last_Updated_On_dayofweek</th>\n",
              "      <th>Last_Updated_On_weekend</th>\n",
              "    </tr>\n",
              "  </thead>\n",
              "  <tbody>\n",
              "    <tr>\n",
              "      <th>0</th>\n",
              "      <td>24654</td>\n",
              "      <td>12</td>\n",
              "      <td>4.18</td>\n",
              "      <td>1481</td>\n",
              "      <td>20254.44413</td>\n",
              "      <td>0.0000</td>\n",
              "      <td>1</td>\n",
              "      <td>0</td>\n",
              "      <td>36</td>\n",
              "      <td>100,000+</td>\n",
              "      <td>2020</td>\n",
              "      <td>5</td>\n",
              "      <td>19</td>\n",
              "      <td>5</td>\n",
              "      <td>1</td>\n",
              "      <td>0</td>\n",
              "    </tr>\n",
              "    <tr>\n",
              "      <th>1</th>\n",
              "      <td>35329</td>\n",
              "      <td>38</td>\n",
              "      <td>4.81</td>\n",
              "      <td>302</td>\n",
              "      <td>10240.00000</td>\n",
              "      <td>0.0000</td>\n",
              "      <td>1</td>\n",
              "      <td>5407</td>\n",
              "      <td>21</td>\n",
              "      <td>5,000+</td>\n",
              "      <td>2020</td>\n",
              "      <td>26</td>\n",
              "      <td>13</td>\n",
              "      <td>3</td>\n",
              "      <td>3</td>\n",
              "      <td>0</td>\n",
              "    </tr>\n",
              "    <tr>\n",
              "      <th>2</th>\n",
              "      <td>11044</td>\n",
              "      <td>21</td>\n",
              "      <td>4.27</td>\n",
              "      <td>374</td>\n",
              "      <td>27648.00000</td>\n",
              "      <td>0.0000</td>\n",
              "      <td>1</td>\n",
              "      <td>980</td>\n",
              "      <td>21</td>\n",
              "      <td>10,000+</td>\n",
              "      <td>2020</td>\n",
              "      <td>1</td>\n",
              "      <td>18</td>\n",
              "      <td>5</td>\n",
              "      <td>4</td>\n",
              "      <td>0</td>\n",
              "    </tr>\n",
              "    <tr>\n",
              "      <th>3</th>\n",
              "      <td>36068</td>\n",
              "      <td>4</td>\n",
              "      <td>4.03</td>\n",
              "      <td>122058</td>\n",
              "      <td>20254.44413</td>\n",
              "      <td>0.0000</td>\n",
              "      <td>4</td>\n",
              "      <td>0</td>\n",
              "      <td>36</td>\n",
              "      <td>10,000,000+</td>\n",
              "      <td>2020</td>\n",
              "      <td>2</td>\n",
              "      <td>18</td>\n",
              "      <td>5</td>\n",
              "      <td>5</td>\n",
              "      <td>1</td>\n",
              "    </tr>\n",
              "    <tr>\n",
              "      <th>4</th>\n",
              "      <td>35831</td>\n",
              "      <td>37</td>\n",
              "      <td>4.60</td>\n",
              "      <td>358</td>\n",
              "      <td>20254.44413</td>\n",
              "      <td>297.5742</td>\n",
              "      <td>1</td>\n",
              "      <td>0</td>\n",
              "      <td>36</td>\n",
              "      <td>5,000+</td>\n",
              "      <td>2018</td>\n",
              "      <td>29</td>\n",
              "      <td>48</td>\n",
              "      <td>11</td>\n",
              "      <td>3</td>\n",
              "      <td>0</td>\n",
              "    </tr>\n",
              "    <tr>\n",
              "      <th>...</th>\n",
              "      <td>...</td>\n",
              "      <td>...</td>\n",
              "      <td>...</td>\n",
              "      <td>...</td>\n",
              "      <td>...</td>\n",
              "      <td>...</td>\n",
              "      <td>...</td>\n",
              "      <td>...</td>\n",
              "      <td>...</td>\n",
              "      <td>...</td>\n",
              "      <td>...</td>\n",
              "      <td>...</td>\n",
              "      <td>...</td>\n",
              "      <td>...</td>\n",
              "      <td>...</td>\n",
              "      <td>...</td>\n",
              "    </tr>\n",
              "    <tr>\n",
              "      <th>16511</th>\n",
              "      <td>5583</td>\n",
              "      <td>32</td>\n",
              "      <td>4.30</td>\n",
              "      <td>13724</td>\n",
              "      <td>20254.44413</td>\n",
              "      <td>0.0000</td>\n",
              "      <td>1</td>\n",
              "      <td>0</td>\n",
              "      <td>36</td>\n",
              "      <td>1,000,000+</td>\n",
              "      <td>2018</td>\n",
              "      <td>21</td>\n",
              "      <td>38</td>\n",
              "      <td>9</td>\n",
              "      <td>4</td>\n",
              "      <td>0</td>\n",
              "    </tr>\n",
              "    <tr>\n",
              "      <th>16512</th>\n",
              "      <td>15485</td>\n",
              "      <td>2</td>\n",
              "      <td>4.73</td>\n",
              "      <td>70</td>\n",
              "      <td>7168.00000</td>\n",
              "      <td>0.0000</td>\n",
              "      <td>1</td>\n",
              "      <td>118</td>\n",
              "      <td>21</td>\n",
              "      <td>10,000+</td>\n",
              "      <td>2020</td>\n",
              "      <td>7</td>\n",
              "      <td>19</td>\n",
              "      <td>5</td>\n",
              "      <td>3</td>\n",
              "      <td>0</td>\n",
              "    </tr>\n",
              "    <tr>\n",
              "      <th>16513</th>\n",
              "      <td>36065</td>\n",
              "      <td>32</td>\n",
              "      <td>4.60</td>\n",
              "      <td>5420</td>\n",
              "      <td>21504.00000</td>\n",
              "      <td>0.0000</td>\n",
              "      <td>1</td>\n",
              "      <td>4021</td>\n",
              "      <td>21</td>\n",
              "      <td>500,000+</td>\n",
              "      <td>2019</td>\n",
              "      <td>10</td>\n",
              "      <td>28</td>\n",
              "      <td>7</td>\n",
              "      <td>2</td>\n",
              "      <td>0</td>\n",
              "    </tr>\n",
              "    <tr>\n",
              "      <th>16514</th>\n",
              "      <td>12625</td>\n",
              "      <td>43</td>\n",
              "      <td>4.60</td>\n",
              "      <td>1488289</td>\n",
              "      <td>20254.44413</td>\n",
              "      <td>0.0000</td>\n",
              "      <td>1</td>\n",
              "      <td>0</td>\n",
              "      <td>36</td>\n",
              "      <td>100,000,000+</td>\n",
              "      <td>2019</td>\n",
              "      <td>7</td>\n",
              "      <td>36</td>\n",
              "      <td>9</td>\n",
              "      <td>5</td>\n",
              "      <td>1</td>\n",
              "    </tr>\n",
              "    <tr>\n",
              "      <th>16515</th>\n",
              "      <td>4549</td>\n",
              "      <td>26</td>\n",
              "      <td>4.45</td>\n",
              "      <td>21201</td>\n",
              "      <td>16384.00000</td>\n",
              "      <td>745.0542</td>\n",
              "      <td>4</td>\n",
              "      <td>4052</td>\n",
              "      <td>12</td>\n",
              "      <td>100,000+</td>\n",
              "      <td>2019</td>\n",
              "      <td>20</td>\n",
              "      <td>38</td>\n",
              "      <td>9</td>\n",
              "      <td>4</td>\n",
              "      <td>0</td>\n",
              "    </tr>\n",
              "  </tbody>\n",
              "</table>\n",
              "<p>16516 rows × 16 columns</p>\n",
              "</div>"
            ],
            "text/plain": [
              "       Offered_By  Category  ...  Last_Updated_On_dayofweek  Last_Updated_On_weekend\n",
              "0           24654        12  ...                          1                        0\n",
              "1           35329        38  ...                          3                        0\n",
              "2           11044        21  ...                          4                        0\n",
              "3           36068         4  ...                          5                        1\n",
              "4           35831        37  ...                          3                        0\n",
              "...           ...       ...  ...                        ...                      ...\n",
              "16511        5583        32  ...                          4                        0\n",
              "16512       15485         2  ...                          3                        0\n",
              "16513       36065        32  ...                          2                        0\n",
              "16514       12625        43  ...                          5                        1\n",
              "16515        4549        26  ...                          4                        0\n",
              "\n",
              "[16516 rows x 16 columns]"
            ]
          },
          "metadata": {},
          "execution_count": 50
        }
      ]
    },
    {
      "cell_type": "code",
      "metadata": {
        "id": "aBYNycILmgja",
        "colab": {
          "base_uri": "https://localhost:8080/"
        },
        "outputId": "a40bf087-3d60-4d83-8f16-c07ea4b0ff67"
      },
      "source": [
        "# tratando a variável alvo (target), nesse caso o atributo \"Downloads\"\n",
        "train['Downloads'] = encoder.fit_transform(train['Downloads'])\n",
        "\n",
        "# visualizando as classes criadas pelo encoder\n",
        "print(encoder.classes_)\n",
        "\n",
        "is_hol = train['Downloads'] == 11\n",
        "df_try = train[is_hol]\n",
        "\n",
        "train = train.append([df_try], ignore_index=True)\n",
        "\n",
        "train_df = train\n",
        "test_df = test"
      ],
      "execution_count": 51,
      "outputs": [
        {
          "output_type": "stream",
          "name": "stdout",
          "text": [
            "['1,000+' '1,000,000+' '1,000,000,000+' '10+' '10,000+' '10,000,000+'\n",
            " '100+' '100,000+' '100,000,000+' '5,000+' '5,000,000+' '5,000,000,000+'\n",
            " '50+' '50,000+' '50,000,000+' '500+' '500,000+' '500,000,000+']\n"
          ]
        }
      ]
    },
    {
      "cell_type": "code",
      "metadata": {
        "id": "iF5QP8Zm_Jo5"
      },
      "source": [
        "# # instanciando as variáveis explicativas (X) e a resposta (y) - alvo\n",
        "# X = train_df.drop(columns='Downloads')     # com a função \".drop()\" estamos removendo a coluna alvo (Downloads) da variável \"X\"\n",
        "# y = train_df['Downloads'] # instanciando nosso target, nesse caso a coluna \"Downloads\""
      ],
      "execution_count": 52,
      "outputs": []
    },
    {
      "cell_type": "code",
      "metadata": {
        "id": "Pbo8vSPE_uGx"
      },
      "source": [
        "# separando as variáveis explicativas e a resposta\n",
        "X = train_df.drop(labels=['Downloads'], axis=1)\n",
        "y = train_df['Downloads'].values"
      ],
      "execution_count": 53,
      "outputs": []
    },
    {
      "cell_type": "code",
      "metadata": {
        "id": "JsxvpHODmghA"
      },
      "source": [
        "# importando a biblioeteca para realizar o particionamento dos dados em treino e validação do modelo\n",
        "from sklearn.model_selection import train_test_split\n",
        "\n",
        "# aplicando a divisão dos dados em treino e teste\n",
        "X_train, X_val, y_train, y_val = train_test_split(X, y, \n",
        "                                                  test_size=0.3,\n",
        "                                                  random_state=101, \n",
        "                                                  stratify=y)"
      ],
      "execution_count": 54,
      "outputs": []
    },
    {
      "cell_type": "code",
      "metadata": {
        "colab": {
          "base_uri": "https://localhost:8080/"
        },
        "id": "TeIMN5NVmged",
        "outputId": "d5f20f11-bdbf-457b-c00c-931e6a9e275f"
      },
      "source": [
        "# visualizando a dimensão das bases de dados - treino e validação\n",
        "X_train.shape, X_val.shape, y_train.shape, y_val.shape"
      ],
      "execution_count": 55,
      "outputs": [
        {
          "output_type": "execute_result",
          "data": {
            "text/plain": [
              "((11561, 15), (4956, 15), (11561,), (4956,))"
            ]
          },
          "metadata": {},
          "execution_count": 55
        }
      ]
    },
    {
      "cell_type": "markdown",
      "metadata": {
        "id": "2NSeSJPPA6oL"
      },
      "source": [
        "## **5 e 6. Construção e avaliação do modelo preditivo**"
      ]
    },
    {
      "cell_type": "markdown",
      "metadata": {
        "id": "83T-BqyWT7yu"
      },
      "source": [
        "Usaremos a métrica do `log_loss` para avaliar o modelo."
      ]
    },
    {
      "cell_type": "code",
      "metadata": {
        "id": "YLp_Q-r3mgcF"
      },
      "source": [
        "# importando as bibliotecas\n",
        "from sklearn.metrics import log_loss\n",
        "import lightgbm as lgb"
      ],
      "execution_count": 56,
      "outputs": []
    },
    {
      "cell_type": "markdown",
      "metadata": {
        "id": "t2UL6l13gu9x"
      },
      "source": [
        "- Documentação do LightGBM:\n",
        " - https://lightgbm.readthedocs.io/en/latest/"
      ]
    },
    {
      "cell_type": "code",
      "metadata": {
        "id": "iXjlvZL2A4KE"
      },
      "source": [
        "# preparando os dados para aplicação do modelo\n",
        "train_data = lgb.Dataset(X_train, label=y_train)\n",
        "test_data = lgb.Dataset(X_val, label=y_val)"
      ],
      "execution_count": 57,
      "outputs": []
    },
    {
      "cell_type": "code",
      "metadata": {
        "colab": {
          "base_uri": "https://localhost:8080/"
        },
        "id": "O189m6HREriz",
        "outputId": "0f056cd7-ce81-4e8a-b12e-8c7bd7f0af7d"
      },
      "source": [
        "# visualizando o tipo de objeto criado\n",
        "train_data, test_data"
      ],
      "execution_count": 58,
      "outputs": [
        {
          "output_type": "execute_result",
          "data": {
            "text/plain": [
              "(<lightgbm.basic.Dataset at 0x7f585b941d10>,\n",
              " <lightgbm.basic.Dataset at 0x7f585b941d90>)"
            ]
          },
          "metadata": {},
          "execution_count": 58
        }
      ]
    },
    {
      "cell_type": "code",
      "metadata": {
        "id": "pTic4-FCA4HR"
      },
      "source": [
        "# tunagem dos hiperparâmetros - criando um dicionário\n",
        "params_dict = {\n",
        "    'num_iterations': 600,              # número de iterações: 600\n",
        "    'metric': 'multi_logloss',          # métrica: logloss\n",
        "    'objective': 'multiclass',          # objetivo: multiclasses\n",
        "    'num_class': 18,                    # número de classes: 18\n",
        "    'learning_rate': 0.09,              # taxa de aprendizagem: 0.09 (9%)\n",
        "\n",
        "    'boosting': 'dart',\n",
        "    'num_leaves': 45,\n",
        "    'max_depth': -1,\n",
        "    'min_data_in_leaf': 30,\n",
        "    'bagging_fraction': 0.9,\n",
        "    'bagging_freq': 2,\n",
        "    'feature_fraction': 0.9,\n",
        "    'lambda_l1': 0.9,\n",
        "    'lambda_l2': 0.9,\n",
        "    'min_data_per_group': 500,\n",
        "    'max_bin': 255,\n",
        "    'is_unbalance': True\n",
        "}"
      ],
      "execution_count": 59,
      "outputs": []
    },
    {
      "cell_type": "code",
      "metadata": {
        "id": "uZbelppNA4E7",
        "colab": {
          "base_uri": "https://localhost:8080/"
        },
        "outputId": "f7147216-30f3-434f-8289-6a15807fb15f"
      },
      "source": [
        "# criando o modelo\n",
        "clf = lgb.train(params=params_dict,         # dicionário dos hiperparâmetros\n",
        "                early_stopping_rounds=400,\n",
        "                verbose_eval=50,            # visualizando a cada 100 iterações o resultado\n",
        "                train_set=train_data,       # dados de treino\n",
        "                valid_sets=[test_data])     # dados de teste\n",
        "\n",
        "# realizando as predições\n",
        "y_pred = clf.predict(X_val)"
      ],
      "execution_count": 60,
      "outputs": [
        {
          "output_type": "stream",
          "name": "stdout",
          "text": [
            "[50]\tvalid_0's multi_logloss: 1.28719\n",
            "[100]\tvalid_0's multi_logloss: 1.2346\n",
            "[150]\tvalid_0's multi_logloss: 1.20217\n",
            "[200]\tvalid_0's multi_logloss: 1.15562\n",
            "[250]\tvalid_0's multi_logloss: 1.13217\n",
            "[300]\tvalid_0's multi_logloss: 1.12053\n",
            "[350]\tvalid_0's multi_logloss: 1.11587\n",
            "[400]\tvalid_0's multi_logloss: 1.11544\n",
            "[450]\tvalid_0's multi_logloss: 1.11968\n",
            "[500]\tvalid_0's multi_logloss: 1.12254\n",
            "[550]\tvalid_0's multi_logloss: 1.12667\n",
            "[600]\tvalid_0's multi_logloss: 1.12549\n"
          ]
        }
      ]
    },
    {
      "cell_type": "code",
      "metadata": {
        "id": "uVUsKbs-A4Am"
      },
      "source": [
        "# criando os dados de teste\n",
        "X_test = test_df"
      ],
      "execution_count": 61,
      "outputs": []
    },
    {
      "cell_type": "code",
      "metadata": {
        "id": "vya3Xm6GA396"
      },
      "source": [
        "# realizando a prediçãp com os dados de teste\n",
        "y_pred = clf.predict(X_test)"
      ],
      "execution_count": 62,
      "outputs": []
    },
    {
      "cell_type": "code",
      "metadata": {
        "id": "HFdS3bOfA37G",
        "colab": {
          "base_uri": "https://localhost:8080/",
          "height": 224
        },
        "outputId": "76bf22cb-d275-4c68-d86b-2f178efb453b"
      },
      "source": [
        "# realizando a submissão dos resultados gerado pelo modelo\n",
        "submission = pd.DataFrame(data=y_pred)\n",
        "submission = submission * 1.05\n",
        "submission.tail()"
      ],
      "execution_count": 70,
      "outputs": [
        {
          "output_type": "execute_result",
          "data": {
            "text/html": [
              "<div>\n",
              "<style scoped>\n",
              "    .dataframe tbody tr th:only-of-type {\n",
              "        vertical-align: middle;\n",
              "    }\n",
              "\n",
              "    .dataframe tbody tr th {\n",
              "        vertical-align: top;\n",
              "    }\n",
              "\n",
              "    .dataframe thead th {\n",
              "        text-align: right;\n",
              "    }\n",
              "</style>\n",
              "<table border=\"1\" class=\"dataframe\">\n",
              "  <thead>\n",
              "    <tr style=\"text-align: right;\">\n",
              "      <th></th>\n",
              "      <th>0</th>\n",
              "      <th>1</th>\n",
              "      <th>2</th>\n",
              "      <th>3</th>\n",
              "      <th>4</th>\n",
              "      <th>5</th>\n",
              "      <th>6</th>\n",
              "      <th>7</th>\n",
              "      <th>8</th>\n",
              "      <th>9</th>\n",
              "      <th>10</th>\n",
              "      <th>11</th>\n",
              "      <th>12</th>\n",
              "      <th>13</th>\n",
              "      <th>14</th>\n",
              "      <th>15</th>\n",
              "      <th>16</th>\n",
              "      <th>17</th>\n",
              "    </tr>\n",
              "  </thead>\n",
              "  <tbody>\n",
              "    <tr>\n",
              "      <th>24771</th>\n",
              "      <td>0.287518</td>\n",
              "      <td>0.001663</td>\n",
              "      <td>0.000297</td>\n",
              "      <td>0.000296</td>\n",
              "      <td>0.586931</td>\n",
              "      <td>0.000682</td>\n",
              "      <td>0.002679</td>\n",
              "      <td>0.006859</td>\n",
              "      <td>0.000316</td>\n",
              "      <td>0.150772</td>\n",
              "      <td>0.001018</td>\n",
              "      <td>0.000238</td>\n",
              "      <td>0.000187</td>\n",
              "      <td>0.006330</td>\n",
              "      <td>0.000486</td>\n",
              "      <td>0.001383</td>\n",
              "      <td>0.002095</td>\n",
              "      <td>0.000250</td>\n",
              "    </tr>\n",
              "    <tr>\n",
              "      <th>24772</th>\n",
              "      <td>0.323040</td>\n",
              "      <td>0.005380</td>\n",
              "      <td>0.000254</td>\n",
              "      <td>0.047280</td>\n",
              "      <td>0.017705</td>\n",
              "      <td>0.000884</td>\n",
              "      <td>0.328814</td>\n",
              "      <td>0.005159</td>\n",
              "      <td>0.000510</td>\n",
              "      <td>0.156933</td>\n",
              "      <td>0.000694</td>\n",
              "      <td>0.000332</td>\n",
              "      <td>0.040383</td>\n",
              "      <td>0.005070</td>\n",
              "      <td>0.000546</td>\n",
              "      <td>0.113190</td>\n",
              "      <td>0.003450</td>\n",
              "      <td>0.000376</td>\n",
              "    </tr>\n",
              "    <tr>\n",
              "      <th>24773</th>\n",
              "      <td>0.006715</td>\n",
              "      <td>0.002767</td>\n",
              "      <td>0.000180</td>\n",
              "      <td>0.000410</td>\n",
              "      <td>0.368692</td>\n",
              "      <td>0.000571</td>\n",
              "      <td>0.000383</td>\n",
              "      <td>0.354041</td>\n",
              "      <td>0.000308</td>\n",
              "      <td>0.034401</td>\n",
              "      <td>0.000650</td>\n",
              "      <td>0.000301</td>\n",
              "      <td>0.000519</td>\n",
              "      <td>0.268533</td>\n",
              "      <td>0.000402</td>\n",
              "      <td>0.001601</td>\n",
              "      <td>0.009304</td>\n",
              "      <td>0.000221</td>\n",
              "    </tr>\n",
              "    <tr>\n",
              "      <th>24774</th>\n",
              "      <td>0.000169</td>\n",
              "      <td>0.008093</td>\n",
              "      <td>0.000279</td>\n",
              "      <td>0.000082</td>\n",
              "      <td>0.000290</td>\n",
              "      <td>0.985582</td>\n",
              "      <td>0.000096</td>\n",
              "      <td>0.001165</td>\n",
              "      <td>0.001332</td>\n",
              "      <td>0.000156</td>\n",
              "      <td>0.048379</td>\n",
              "      <td>0.000092</td>\n",
              "      <td>0.000096</td>\n",
              "      <td>0.000286</td>\n",
              "      <td>0.001315</td>\n",
              "      <td>0.000117</td>\n",
              "      <td>0.001389</td>\n",
              "      <td>0.001082</td>\n",
              "    </tr>\n",
              "    <tr>\n",
              "      <th>24775</th>\n",
              "      <td>0.000285</td>\n",
              "      <td>0.026557</td>\n",
              "      <td>0.000190</td>\n",
              "      <td>0.000228</td>\n",
              "      <td>0.014333</td>\n",
              "      <td>0.000350</td>\n",
              "      <td>0.000346</td>\n",
              "      <td>0.803154</td>\n",
              "      <td>0.000416</td>\n",
              "      <td>0.001153</td>\n",
              "      <td>0.004659</td>\n",
              "      <td>0.000245</td>\n",
              "      <td>0.000201</td>\n",
              "      <td>0.062367</td>\n",
              "      <td>0.000427</td>\n",
              "      <td>0.000227</td>\n",
              "      <td>0.134575</td>\n",
              "      <td>0.000286</td>\n",
              "    </tr>\n",
              "  </tbody>\n",
              "</table>\n",
              "</div>"
            ],
            "text/plain": [
              "             0         1         2   ...        15        16        17\n",
              "24771  0.287518  0.001663  0.000297  ...  0.001383  0.002095  0.000250\n",
              "24772  0.323040  0.005380  0.000254  ...  0.113190  0.003450  0.000376\n",
              "24773  0.006715  0.002767  0.000180  ...  0.001601  0.009304  0.000221\n",
              "24774  0.000169  0.008093  0.000279  ...  0.000117  0.001389  0.001082\n",
              "24775  0.000285  0.026557  0.000190  ...  0.000227  0.134575  0.000286\n",
              "\n",
              "[5 rows x 18 columns]"
            ]
          },
          "metadata": {},
          "execution_count": 70
        }
      ]
    },
    {
      "cell_type": "code",
      "metadata": {
        "colab": {
          "base_uri": "https://localhost:8080/"
        },
        "id": "dwU9-mVyb62V",
        "outputId": "edbbf3b3-f7a3-4ec8-ea17-cf7f8add3042"
      },
      "source": [
        "# visualizando a dimensão do arquivo\n",
        "submission.shape    # linhas e colunas"
      ],
      "execution_count": 64,
      "outputs": [
        {
          "output_type": "execute_result",
          "data": {
            "text/plain": [
              "(24776, 18)"
            ]
          },
          "metadata": {},
          "execution_count": 64
        }
      ]
    },
    {
      "cell_type": "code",
      "metadata": {
        "id": "uOiUIhNpA34h"
      },
      "source": [
        "# convertendo para uma arquivo \".csv\"\n",
        "submission.to_csv('results.csv', index=False)"
      ],
      "execution_count": 65,
      "outputs": []
    },
    {
      "cell_type": "code",
      "metadata": {
        "id": "JKPNXRc9A314"
      },
      "source": [
        "# from google.colab import files \n",
        "# files.download('results.csv')"
      ],
      "execution_count": 66,
      "outputs": []
    },
    {
      "cell_type": "code",
      "metadata": {
        "id": "fA6AzHowA3zC"
      },
      "source": [
        ""
      ],
      "execution_count": 66,
      "outputs": []
    },
    {
      "cell_type": "code",
      "metadata": {
        "id": "S36ThEZxA3w_"
      },
      "source": [
        ""
      ],
      "execution_count": 66,
      "outputs": []
    },
    {
      "cell_type": "code",
      "metadata": {
        "id": "UYcO8WXcA3u7"
      },
      "source": [
        ""
      ],
      "execution_count": 66,
      "outputs": []
    }
  ]
}